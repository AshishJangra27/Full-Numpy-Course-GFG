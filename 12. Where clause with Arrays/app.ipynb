{
  "nbformat": 4,
  "nbformat_minor": 0,
  "metadata": {
    "colab": {
      "provenance": []
    },
    "kernelspec": {
      "name": "python3",
      "display_name": "Python 3"
    },
    "language_info": {
      "name": "python"
    }
  },
  "cells": [
    {
      "cell_type": "code",
      "execution_count": 1,
      "metadata": {
        "id": "FjCmo8GW8Ldw"
      },
      "outputs": [],
      "source": [
        "import numpy as np"
      ]
    },
    {
      "cell_type": "markdown",
      "source": [
        "### 1d array"
      ],
      "metadata": {
        "id": "rg0fdQlGcmsR"
      }
    },
    {
      "cell_type": "code",
      "source": [
        "np.random.seed(10)\n",
        "arr = np.random.randint(1,11,size = 10)\n",
        "\n",
        "print(arr)\n",
        "print('-'*10)\n",
        "\n",
        "indices = np.where(arr >= 5)\n",
        "print(list(indices[0]))\n",
        "print('-'*10)\n",
        "\n",
        "print(arr[indices])"
      ],
      "metadata": {
        "colab": {
          "base_uri": "https://localhost:8080/"
        },
        "id": "m9i-vH0ib-0y",
        "outputId": "d3ebbff2-aecf-4508-b0ff-14a7642d7fdc"
      },
      "execution_count": 11,
      "outputs": [
        {
          "output_type": "stream",
          "name": "stdout",
          "text": [
            "[10  5  1  2 10  1  2  9 10  1]\n",
            "----------\n",
            "[0, 1, 4, 7, 8]\n",
            "----------\n",
            "[10  5 10  9 10]\n"
          ]
        }
      ]
    },
    {
      "cell_type": "markdown",
      "source": [
        "### 2d array"
      ],
      "metadata": {
        "id": "kAt_bxy6drnd"
      }
    },
    {
      "cell_type": "code",
      "source": [
        "np.random.seed(10)\n",
        "arr = np.random.randint(1,11,size = (3,3))\n",
        "\n",
        "print(arr)\n",
        "print('-'*10)\n",
        "\n",
        "indices = np.where(arr >= 5)\n",
        "print(indices)\n",
        "print('-'*10)\n",
        "\n",
        "print(arr[indices])"
      ],
      "metadata": {
        "colab": {
          "base_uri": "https://localhost:8080/"
        },
        "id": "GuQNeIetcxbV",
        "outputId": "b19f8640-dc04-40d6-c370-ad37a22bda78"
      },
      "execution_count": 15,
      "outputs": [
        {
          "output_type": "stream",
          "name": "stdout",
          "text": [
            "[[10  5  1]\n",
            " [ 2 10  1]\n",
            " [ 2  9 10]]\n",
            "----------\n",
            "(array([0, 0, 1, 2, 2]), array([0, 1, 1, 1, 2]))\n",
            "----------\n",
            "[10  5 10  9 10]\n"
          ]
        }
      ]
    },
    {
      "cell_type": "markdown",
      "source": [
        "### 3d array"
      ],
      "metadata": {
        "id": "QKTIZSaWeWUj"
      }
    },
    {
      "cell_type": "code",
      "source": [
        "np.random.seed(10)\n",
        "arr = np.random.randint(1,11,size = (3,3,3))\n",
        "\n",
        "print(arr)\n",
        "print('-'*10)\n",
        "\n",
        "indices = np.where(arr >= 5)\n",
        "print(indices)\n",
        "print('-'*10)\n",
        "\n",
        "print(arr[indices])"
      ],
      "metadata": {
        "colab": {
          "base_uri": "https://localhost:8080/"
        },
        "id": "W5_wHMhrdukT",
        "outputId": "57a41901-e7b4-4ab6-c2f1-a371a9f116da"
      },
      "execution_count": 18,
      "outputs": [
        {
          "output_type": "stream",
          "name": "stdout",
          "text": [
            "[[[10  5  1]\n",
            "  [ 2 10  1]\n",
            "  [ 2  9 10]]\n",
            "\n",
            " [[ 1  9  7]\n",
            "  [ 5  4  1]\n",
            "  [ 5  7  9]]\n",
            "\n",
            " [[ 2  9  5]\n",
            "  [ 2  4  7]\n",
            "  [ 6  4 10]]]\n",
            "----------\n",
            "(array([0, 0, 0, 0, 0, 1, 1, 1, 1, 1, 1, 2, 2, 2, 2, 2]), array([0, 0, 1, 2, 2, 0, 0, 1, 2, 2, 2, 0, 0, 1, 2, 2]), array([0, 1, 1, 1, 2, 1, 2, 0, 0, 1, 2, 1, 2, 2, 0, 2]))\n",
            "----------\n",
            "[10  5 10  9 10  9  7  5  5  7  9  9  5  7  6 10]\n"
          ]
        }
      ]
    },
    {
      "cell_type": "code",
      "source": [
        "for i in range(len(indices)):\n",
        "  print(indices[i])\n",
        ""
      ],
      "metadata": {
        "colab": {
          "base_uri": "https://localhost:8080/"
        },
        "id": "WJjWFwIReZod",
        "outputId": "3fecc5f3-3053-45fe-e2f6-efb961dc2e4b"
      },
      "execution_count": 23,
      "outputs": [
        {
          "output_type": "stream",
          "name": "stdout",
          "text": [
            "[0 0 0 0 0 1 1 1 1 1 1 2 2 2 2 2]\n",
            "[0 0 1 2 2 0 0 1 2 2 2 0 0 1 2 2]\n",
            "[0 1 1 1 2 1 2 0 0 1 2 1 2 2 0 2]\n"
          ]
        }
      ]
    }
  ]
}