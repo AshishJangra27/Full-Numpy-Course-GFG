{
  "nbformat": 4,
  "nbformat_minor": 0,
  "metadata": {
    "colab": {
      "provenance": []
    },
    "kernelspec": {
      "name": "python3",
      "display_name": "Python 3"
    },
    "language_info": {
      "name": "python"
    }
  },
  "cells": [
    {
      "cell_type": "code",
      "source": [
        "import numpy as np"
      ],
      "metadata": {
        "id": "qvjqHldMZmT4"
      },
      "execution_count": 7,
      "outputs": []
    },
    {
      "cell_type": "markdown",
      "source": [
        "### 1. Dot product"
      ],
      "metadata": {
        "id": "C_sydjG9Zo6D"
      }
    },
    {
      "cell_type": "code",
      "execution_count": 8,
      "metadata": {
        "colab": {
          "base_uri": "https://localhost:8080/"
        },
        "id": "Cwo32YOPZHQG",
        "outputId": "119985df-86ea-4943-c2b8-95c15570241f"
      },
      "outputs": [
        {
          "output_type": "execute_result",
          "data": {
            "text/plain": [
              "8"
            ]
          },
          "metadata": {},
          "execution_count": 8
        }
      ],
      "source": [
        "a = np.array([1,2])\n",
        "b= np.array ([2,3])\n",
        "dot_product = np.dot(a,b)\n",
        "dot_product"
      ]
    },
    {
      "cell_type": "code",
      "source": [
        "c = np.array([1,2,3])\n",
        "d = np.array([2,3,4])\n",
        "dot_product = np.dot(c,d)\n",
        "dot_product"
      ],
      "metadata": {
        "colab": {
          "base_uri": "https://localhost:8080/"
        },
        "id": "Kh1csm9OZ2Qr",
        "outputId": "739acdd8-47dc-48b9-b568-f20f75dd96b2"
      },
      "execution_count": 9,
      "outputs": [
        {
          "output_type": "execute_result",
          "data": {
            "text/plain": [
              "20"
            ]
          },
          "metadata": {},
          "execution_count": 9
        }
      ]
    },
    {
      "cell_type": "code",
      "source": [
        "x = np.array([1,2])\n",
        "y = np.array([5,3])\n",
        "dot_product = np.dot(x,y)\n",
        "dot_product"
      ],
      "metadata": {
        "colab": {
          "base_uri": "https://localhost:8080/"
        },
        "id": "Ijch1VmVZ2zF",
        "outputId": "ccc7421f-e39d-461d-df7b-431674cf6deb"
      },
      "execution_count": 10,
      "outputs": [
        {
          "output_type": "execute_result",
          "data": {
            "text/plain": [
              "11"
            ]
          },
          "metadata": {},
          "execution_count": 10
        }
      ]
    },
    {
      "cell_type": "markdown",
      "source": [
        "### 2. Matrix Multiplication"
      ],
      "metadata": {
        "id": "ocwIPKc2ZvkY"
      }
    },
    {
      "cell_type": "code",
      "source": [
        "A = np.array([[1,2],[3,4]])\n",
        "B= np.array([[2,3],[4,5]])\n",
        "product = np.matmul(A,B)\n",
        "product"
      ],
      "metadata": {
        "colab": {
          "base_uri": "https://localhost:8080/"
        },
        "id": "Co4hKkQ2Zu8Z",
        "outputId": "eaa38c37-1c0c-48bc-dd09-5b657dba29bf"
      },
      "execution_count": 11,
      "outputs": [
        {
          "output_type": "execute_result",
          "data": {
            "text/plain": [
              "array([[10, 13],\n",
              "       [22, 29]])"
            ]
          },
          "metadata": {},
          "execution_count": 11
        }
      ]
    },
    {
      "cell_type": "code",
      "source": [
        "C = np.array([1,2])\n",
        "D = np.array([[4,1],[3,5]])\n",
        "product = np.matmul(C,D)\n",
        "product"
      ],
      "metadata": {
        "colab": {
          "base_uri": "https://localhost:8080/"
        },
        "id": "ODktOTEzZtZ8",
        "outputId": "d144fb8e-8690-4d09-c398-928690892f93"
      },
      "execution_count": 12,
      "outputs": [
        {
          "output_type": "execute_result",
          "data": {
            "text/plain": [
              "array([10, 11])"
            ]
          },
          "metadata": {},
          "execution_count": 12
        }
      ]
    },
    {
      "cell_type": "markdown",
      "source": [
        "### 3. Dot Product"
      ],
      "metadata": {
        "id": "xPZYbLfPafa3"
      }
    },
    {
      "cell_type": "code",
      "source": [
        "A = np.array([[1,2],[3,4]])\n",
        "B= np.array([[2,3],[4,5]])\n",
        "product = np.dot(A,B)\n",
        "product"
      ],
      "metadata": {
        "colab": {
          "base_uri": "https://localhost:8080/"
        },
        "id": "U05rXyg9aQ5d",
        "outputId": "c7b80ba7-f776-42b7-cc16-5a99d37a2005"
      },
      "execution_count": 13,
      "outputs": [
        {
          "output_type": "execute_result",
          "data": {
            "text/plain": [
              "array([[10, 13],\n",
              "       [22, 29]])"
            ]
          },
          "metadata": {},
          "execution_count": 13
        }
      ]
    }
  ]
}