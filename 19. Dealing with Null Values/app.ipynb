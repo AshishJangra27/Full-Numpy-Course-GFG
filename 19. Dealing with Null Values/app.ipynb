{
  "nbformat": 4,
  "nbformat_minor": 0,
  "metadata": {
    "colab": {
      "provenance": []
    },
    "kernelspec": {
      "name": "python3",
      "display_name": "Python 3"
    },
    "language_info": {
      "name": "python"
    }
  },
  "cells": [
    {
      "cell_type": "code",
      "execution_count": 1,
      "metadata": {
        "id": "FjCmo8GW8Ldw"
      },
      "outputs": [],
      "source": [
        "import numpy as np"
      ]
    },
    {
      "cell_type": "markdown",
      "source": [
        "### 1. None to np.nan"
      ],
      "metadata": {
        "id": "KkTVIxHAMKAi"
      }
    },
    {
      "cell_type": "code",
      "source": [
        "arr = np.array([1,2,3,None, 4,5,None])\n",
        "print(arr)\n",
        "\n",
        "arr[arr == None] = np.nan\n",
        "print(arr)"
      ],
      "metadata": {
        "colab": {
          "base_uri": "https://localhost:8080/"
        },
        "id": "Xcz15WVJMHvl",
        "outputId": "99e88f90-9caf-41e3-9f95-579acf8ff6c3"
      },
      "execution_count": 10,
      "outputs": [
        {
          "output_type": "stream",
          "name": "stdout",
          "text": [
            "[1 2 3 None 4 5 None]\n",
            "[1 2 3 nan 4 5 nan]\n"
          ]
        }
      ]
    },
    {
      "cell_type": "markdown",
      "source": [
        "### 2. Checking with Null Values"
      ],
      "metadata": {
        "id": "zCc9wlJcNByC"
      }
    },
    {
      "cell_type": "code",
      "source": [
        "arr = np.array([1,2,3,np.nan, 4,5,np.nan])\n",
        "print(arr)\n",
        "\n",
        "print(np.isnan(arr))"
      ],
      "metadata": {
        "colab": {
          "base_uri": "https://localhost:8080/"
        },
        "id": "u65ubbG_MS_b",
        "outputId": "df8b42d2-5b23-45a5-803b-a22380ed9b0d"
      },
      "execution_count": 12,
      "outputs": [
        {
          "output_type": "stream",
          "name": "stdout",
          "text": [
            "[ 1.  2.  3. nan  4.  5. nan]\n",
            "[False False False  True False False  True]\n"
          ]
        }
      ]
    },
    {
      "cell_type": "markdown",
      "source": [
        "### 3. Removing null values"
      ],
      "metadata": {
        "id": "Sk41sGilNd_M"
      }
    },
    {
      "cell_type": "code",
      "source": [
        "arr = np.array([1,2,3,np.nan, 4,5,np.nan])\n",
        "\n",
        "print(np.isnan(arr))\n",
        "print(~np.isnan(arr))\n",
        "\n",
        "arr = arr[~np.isnan(arr)]\n",
        "print(arr)"
      ],
      "metadata": {
        "colab": {
          "base_uri": "https://localhost:8080/"
        },
        "id": "hlaN1pO4Mt_G",
        "outputId": "3f12727d-f10d-47b0-f258-73f75bfd0c0a"
      },
      "execution_count": 17,
      "outputs": [
        {
          "output_type": "stream",
          "name": "stdout",
          "text": [
            "[False False False  True False False  True]\n",
            "[ True  True  True False  True  True False]\n",
            "[1. 2. 3. 4. 5.]\n"
          ]
        }
      ]
    },
    {
      "cell_type": "markdown",
      "source": [
        "### 4. Filling null with fixed values"
      ],
      "metadata": {
        "id": "0F7o014nOGpw"
      }
    },
    {
      "cell_type": "code",
      "source": [
        "arr = np.array([1,2,3, np.nan, 4,5,np.nan])\n",
        "print(arr)\n",
        "\n",
        "arr[np.isnan(arr)] = 0\n",
        "print(arr)"
      ],
      "metadata": {
        "colab": {
          "base_uri": "https://localhost:8080/"
        },
        "id": "paxBYqPmNjzF",
        "outputId": "f5c3ce1c-fa39-4db3-de65-5ca375c97372"
      },
      "execution_count": 26,
      "outputs": [
        {
          "output_type": "stream",
          "name": "stdout",
          "text": [
            "[ 1.  2.  3. nan  4.  5. nan]\n",
            "[1. 2. 3. 5. 4. 5. 5.]\n"
          ]
        }
      ]
    },
    {
      "cell_type": "markdown",
      "source": [
        "### 5. Filling null with average"
      ],
      "metadata": {
        "id": "F5j9o-PRO7aF"
      }
    },
    {
      "cell_type": "code",
      "source": [
        "arr = np.array([21,22,22, np.nan, 24,25,np.nan])\n",
        "print(arr)\n",
        "\n",
        "arr[np.isnan(arr)] = int(np.nanmean(arr))\n",
        "print(arr)"
      ],
      "metadata": {
        "colab": {
          "base_uri": "https://localhost:8080/"
        },
        "id": "fytxLiBOOLSN",
        "outputId": "6af9cd6e-5271-47ad-f2b2-a2a35fdd95c6"
      },
      "execution_count": 39,
      "outputs": [
        {
          "output_type": "stream",
          "name": "stdout",
          "text": [
            "[21. 22. 22. nan 24. 25. nan]\n",
            "[21. 22. 22. 22. 24. 25. 22.]\n"
          ]
        }
      ]
    }
  ]
}