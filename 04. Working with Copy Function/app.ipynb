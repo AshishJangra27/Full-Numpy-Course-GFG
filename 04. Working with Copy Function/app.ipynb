{
  "nbformat": 4,
  "nbformat_minor": 0,
  "metadata": {
    "colab": {
      "provenance": []
    },
    "kernelspec": {
      "name": "python3",
      "display_name": "Python 3"
    },
    "language_info": {
      "name": "python"
    }
  },
  "cells": [
    {
      "cell_type": "code",
      "execution_count": 1,
      "metadata": {
        "id": "FjCmo8GW8Ldw"
      },
      "outputs": [],
      "source": [
        "import numpy as np"
      ]
    },
    {
      "cell_type": "markdown",
      "source": [
        "### 1. Copy function with lists"
      ],
      "metadata": {
        "id": "AGkQYuT28sEK"
      }
    },
    {
      "cell_type": "code",
      "source": [
        "lst = [1,2,3,4,5]\n",
        "print(lst)\n",
        "lst1 = lst\n",
        "print(lst1)\n",
        "print('-'*10)\n",
        "\n",
        "lst[0] = 5\n",
        "print(lst)\n",
        "print(lst1)\n",
        "print('-'*10)\n",
        "\n",
        "lst1[0] = 4\n",
        "print(lst)\n",
        "print(lst1)\n",
        "\n",
        "print()\n",
        "print('*'*20)\n",
        "print()\n",
        "\n",
        "lst = [1,2,3,4,5]\n",
        "print(lst)\n",
        "lst1 = lst.copy()\n",
        "print(lst1)\n",
        "print('-'*10)\n",
        "\n",
        "lst[0] = 5\n",
        "print(lst)\n",
        "print(lst1)\n",
        "print('-'*10)\n",
        "lst[0] = 1\n",
        "\n",
        "lst1[0] = 5\n",
        "print(lst)\n",
        "print(lst1)"
      ],
      "metadata": {
        "id": "u06kF9Uc8phx"
      },
      "execution_count": null,
      "outputs": []
    },
    {
      "cell_type": "markdown",
      "source": [
        "### 2. Copy function with arrays"
      ],
      "metadata": {
        "id": "HWlJnLGq-M49"
      }
    },
    {
      "cell_type": "code",
      "source": [
        "arr = np.array([1,2,3,4,5])\n",
        "\n",
        "arr_ = arr.copy()\n",
        "\n",
        "print(arr)\n",
        "print(arr_)\n",
        "print('-'*10)\n",
        "\n",
        "arr[0] = 5\n",
        "print(arr)\n",
        "print(arr_)\n",
        "arr[0] = 1\n",
        "print('-'*10)\n",
        "\n",
        "arr_[0] = 5\n",
        "print(arr)\n",
        "print(arr_)\n"
      ],
      "metadata": {
        "colab": {
          "base_uri": "https://localhost:8080/"
        },
        "id": "MVxL4yXu8zpE",
        "outputId": "040bea17-5be1-4d55-9310-e8582252dfc9"
      },
      "execution_count": 15,
      "outputs": [
        {
          "output_type": "stream",
          "name": "stdout",
          "text": [
            "[1 2 3 4 5]\n",
            "[1 2 3 4 5]\n",
            "----------\n",
            "[5 2 3 4 5]\n",
            "[5 2 3 4 5]\n",
            "----------\n",
            "[5 2 3 4 5]\n",
            "[5 2 3 4 5]\n"
          ]
        }
      ]
    }
  ]
}