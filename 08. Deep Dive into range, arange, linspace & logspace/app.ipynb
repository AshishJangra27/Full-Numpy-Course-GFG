{
  "nbformat": 4,
  "nbformat_minor": 0,
  "metadata": {
    "colab": {
      "provenance": []
    },
    "kernelspec": {
      "name": "python3",
      "display_name": "Python 3"
    },
    "language_info": {
      "name": "python"
    }
  },
  "cells": [
    {
      "cell_type": "code",
      "execution_count": 1,
      "metadata": {
        "id": "FjCmo8GW8Ldw"
      },
      "outputs": [],
      "source": [
        "import numpy as np"
      ]
    },
    {
      "cell_type": "markdown",
      "source": [
        "### 1. range"
      ],
      "metadata": {
        "id": "XXzy8iOuQqn2"
      }
    },
    {
      "cell_type": "code",
      "source": [
        "r = range(10)\n",
        "print(r)\n",
        "\n",
        "r = range(0,10, 2)\n",
        "print(r)\n",
        "\n",
        "r = range(10,0, -2)\n",
        "print(r)\n",
        "\n",
        "print(6 in range(10))\n",
        "print(list(range(10)))"
      ],
      "metadata": {
        "colab": {
          "base_uri": "https://localhost:8080/"
        },
        "id": "1qEiwpw4NULF",
        "outputId": "5b8916b4-0c52-4675-f50a-b281502aa8f1"
      },
      "execution_count": 76,
      "outputs": [
        {
          "output_type": "stream",
          "name": "stdout",
          "text": [
            "range(0, 10)\n",
            "range(0, 10, 2)\n",
            "range(10, 0, -2)\n",
            "True\n",
            "[0, 1, 2, 3, 4, 5, 6, 7, 8, 9]\n"
          ]
        }
      ]
    },
    {
      "cell_type": "markdown",
      "source": [
        "### 2. arange"
      ],
      "metadata": {
        "id": "3_fIGGhlRbdH"
      }
    },
    {
      "cell_type": "code",
      "source": [
        "arr = np.arange(0,10,2)\n",
        "print(arr)\n",
        "\n",
        "arr = np.arange(10,0,-1)\n",
        "print(arr)\n",
        "\n",
        "arr = np.arange(0,10,.5)\n",
        "print(arr)"
      ],
      "metadata": {
        "colab": {
          "base_uri": "https://localhost:8080/"
        },
        "id": "YV1UNG4AQv3w",
        "outputId": "e01590b1-b75f-47a7-ebed-4242bee672cd"
      },
      "execution_count": 77,
      "outputs": [
        {
          "output_type": "stream",
          "name": "stdout",
          "text": [
            "[0 2 4 6 8]\n",
            "[10  9  8  7  6  5  4  3  2  1]\n",
            "[0.  0.5 1.  1.5 2.  2.5 3.  3.5 4.  4.5 5.  5.5 6.  6.5 7.  7.5 8.  8.5\n",
            " 9.  9.5]\n"
          ]
        }
      ]
    },
    {
      "cell_type": "markdown",
      "source": [
        "### 3. linspace"
      ],
      "metadata": {
        "id": "7qAUhd4AR3Q1"
      }
    },
    {
      "cell_type": "code",
      "source": [
        "l = np.linspace(0,10,5)\n",
        "print(l)\n",
        "\n",
        "l = np.linspace(1,10,10)\n",
        "print(l)\n",
        "\n",
        "l = np.linspace(1,10,10, endpoint = False)\n",
        "print(l)\n",
        "\n",
        "l,s= np.linspace(1,5,10, retstep = True)\n",
        "print(l)\n",
        "print(s)"
      ],
      "metadata": {
        "colab": {
          "base_uri": "https://localhost:8080/"
        },
        "id": "NSz46sWBRJb3",
        "outputId": "5520d171-e4a8-4cd1-bcb0-5cb9077bf9ae"
      },
      "execution_count": 93,
      "outputs": [
        {
          "output_type": "stream",
          "name": "stdout",
          "text": [
            "[ 0.   2.5  5.   7.5 10. ]\n",
            "[ 1.  2.  3.  4.  5.  6.  7.  8.  9. 10.]\n",
            "[1.  1.9 2.8 3.7 4.6 5.5 6.4 7.3 8.2 9.1]\n",
            "[1.         1.44444444 1.88888889 2.33333333 2.77777778 3.22222222\n",
            " 3.66666667 4.11111111 4.55555556 5.        ]\n",
            "0.4444444444444444\n"
          ]
        }
      ]
    },
    {
      "cell_type": "markdown",
      "source": [
        "### 4. logspace"
      ],
      "metadata": {
        "id": "HtfYgt3zS-WS"
      }
    },
    {
      "cell_type": "code",
      "source": [
        "arr = np.logspace(0,10,5)\n",
        "print(arr)\n",
        "\n",
        "arr = np.logspace(0,10,5, endpoint = False)\n",
        "print(arr)\n",
        "\n",
        "arr = np.logspace(0,10,5, base = 2)\n",
        "print(arr)"
      ],
      "metadata": {
        "colab": {
          "base_uri": "https://localhost:8080/"
        },
        "id": "EKzdMmvbSAKE",
        "outputId": "df75d3a7-365b-4649-affb-0d53ec6aabf3"
      },
      "execution_count": 97,
      "outputs": [
        {
          "output_type": "stream",
          "name": "stdout",
          "text": [
            "[1.00000000e+00 3.16227766e+02 1.00000000e+05 3.16227766e+07\n",
            " 1.00000000e+10]\n",
            "[1.e+00 1.e+02 1.e+04 1.e+06 1.e+08]\n",
            "[1.00000000e+00 5.65685425e+00 3.20000000e+01 1.81019336e+02\n",
            " 1.02400000e+03]\n"
          ]
        }
      ]
    }
  ]
}