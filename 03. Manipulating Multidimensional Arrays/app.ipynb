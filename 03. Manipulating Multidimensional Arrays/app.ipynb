{
  "nbformat": 4,
  "nbformat_minor": 0,
  "metadata": {
    "colab": {
      "provenance": []
    },
    "kernelspec": {
      "name": "python3",
      "display_name": "Python 3"
    },
    "language_info": {
      "name": "python"
    }
  },
  "cells": [
    {
      "cell_type": "code",
      "execution_count": 1,
      "metadata": {
        "id": "kR08rdM69i71"
      },
      "outputs": [],
      "source": [
        "import numpy as np"
      ]
    },
    {
      "cell_type": "markdown",
      "source": [
        "### 1. Creating Multi-dimensional Arrays"
      ],
      "metadata": {
        "id": "2quUP8qTnT-Y"
      }
    },
    {
      "cell_type": "markdown",
      "source": [
        "##### 1.1) Create a 2D array from a list of lists"
      ],
      "metadata": {
        "id": "r08zTO4koQ-I"
      }
    },
    {
      "cell_type": "code",
      "source": [
        "arr = np.array([[1,2,3],[4,5,6]])\n",
        "print(arr)"
      ],
      "metadata": {
        "colab": {
          "base_uri": "https://localhost:8080/"
        },
        "id": "Z0iVgS-inavE",
        "outputId": "11a095bb-d6c9-4b8a-dd6b-c471c353526b"
      },
      "execution_count": 4,
      "outputs": [
        {
          "output_type": "stream",
          "name": "stdout",
          "text": [
            "[[1 2 3]\n",
            " [4 5 6]]\n"
          ]
        }
      ]
    },
    {
      "cell_type": "markdown",
      "source": [
        "##### 1.2) Create a 3D array from a list of lists"
      ],
      "metadata": {
        "id": "L4B7IVhToVLz"
      }
    },
    {
      "cell_type": "code",
      "source": [
        "arr = np.array([[[1,2,3],[4,5,6],[7,8,9]],\n",
        "                [[1,2,3],[4,5,6],[7,8,9]],\n",
        "                [[1,2,3],[4,5,6],[7,8,9]]])\n",
        "print(arr)"
      ],
      "metadata": {
        "colab": {
          "base_uri": "https://localhost:8080/"
        },
        "id": "IxXlMFjtoVl4",
        "outputId": "8e11a50e-f991-41bc-970d-7cbbac45972b"
      },
      "execution_count": 5,
      "outputs": [
        {
          "output_type": "stream",
          "name": "stdout",
          "text": [
            "[[[1 2 3]\n",
            "  [4 5 6]\n",
            "  [7 8 9]]\n",
            "\n",
            " [[1 2 3]\n",
            "  [4 5 6]\n",
            "  [7 8 9]]\n",
            "\n",
            " [[1 2 3]\n",
            "  [4 5 6]\n",
            "  [7 8 9]]]\n"
          ]
        }
      ]
    },
    {
      "cell_type": "markdown",
      "source": [
        "##### 1.3) Create a 2D array from a list of tuples"
      ],
      "metadata": {
        "id": "hjJrxo1koZ-F"
      }
    },
    {
      "cell_type": "code",
      "source": [
        "arr = np.array([(1,2,3),(4,5,6)])\n",
        "print(arr)"
      ],
      "metadata": {
        "colab": {
          "base_uri": "https://localhost:8080/"
        },
        "id": "q0y-V9ZZoaPi",
        "outputId": "44be17fe-f596-4350-c9e6-a0ef8325b31e"
      },
      "execution_count": 6,
      "outputs": [
        {
          "output_type": "stream",
          "name": "stdout",
          "text": [
            "[[1 2 3]\n",
            " [4 5 6]]\n"
          ]
        }
      ]
    },
    {
      "cell_type": "markdown",
      "source": [
        "##### 1.4) Create a 2D array from a list of arrays"
      ],
      "metadata": {
        "id": "CnNXsoHmoe0w"
      }
    },
    {
      "cell_type": "code",
      "source": [
        "arr = np.array([np.array([1,2,3]), np.array([4,5,6])])\n",
        "print(arr)"
      ],
      "metadata": {
        "colab": {
          "base_uri": "https://localhost:8080/"
        },
        "id": "ovN8vr3nofFs",
        "outputId": "5029f76a-1113-4166-a559-59a6458ac231"
      },
      "execution_count": 10,
      "outputs": [
        {
          "output_type": "stream",
          "name": "stdout",
          "text": [
            "[[1 2 3]\n",
            " [4 5 6]]\n"
          ]
        }
      ]
    },
    {
      "cell_type": "markdown",
      "source": [
        "##### 1.5) Create a 2D array from a list of strings"
      ],
      "metadata": {
        "id": "sKxW0pqFok4x"
      }
    },
    {
      "cell_type": "code",
      "source": [
        "arr = np.array([['1','2','3'],['4','5','6']])\n",
        "print(arr)"
      ],
      "metadata": {
        "colab": {
          "base_uri": "https://localhost:8080/"
        },
        "id": "_AnCWiiDolKf",
        "outputId": "fe15d235-fb91-4e4d-d36c-43ac517712c5"
      },
      "execution_count": 11,
      "outputs": [
        {
          "output_type": "stream",
          "name": "stdout",
          "text": [
            "[['1' '2' '3']\n",
            " ['4' '5' '6']]\n"
          ]
        }
      ]
    },
    {
      "cell_type": "markdown",
      "source": [
        "##### 1.6) Create a 2D array from a list of dictionaries"
      ],
      "metadata": {
        "id": "nlgLmdQcop6q"
      }
    },
    {
      "cell_type": "code",
      "source": [
        "arr = np.array([{'a' : 1, 'b' : 2, 'c' : 3},{'d' : 4, 'e' : 5, 'f' : 6}])\n",
        "print(arr)"
      ],
      "metadata": {
        "colab": {
          "base_uri": "https://localhost:8080/"
        },
        "id": "yuqsNJ5OoqMl",
        "outputId": "5d90e622-3f09-4159-abf9-aa4b1441c536"
      },
      "execution_count": 12,
      "outputs": [
        {
          "output_type": "stream",
          "name": "stdout",
          "text": [
            "[{'a': 1, 'b': 2, 'c': 3} {'d': 4, 'e': 5, 'f': 6}]\n"
          ]
        }
      ]
    },
    {
      "cell_type": "markdown",
      "source": [
        "### 2. Finding details of an arrays"
      ],
      "metadata": {
        "id": "EGcDxiLrnXB8"
      }
    },
    {
      "cell_type": "markdown",
      "source": [
        "##### 2.1) Print the shape of the array"
      ],
      "metadata": {
        "id": "LesPLXtinftr"
      }
    },
    {
      "cell_type": "code",
      "source": [
        "arr = np.array([[1,1],[4,1],[2,3]])\n",
        "\n",
        "print(arr.shape)"
      ],
      "metadata": {
        "colab": {
          "base_uri": "https://localhost:8080/"
        },
        "id": "lDjxS_FUnWf_",
        "outputId": "bed385d0-e73e-4412-b254-45123f792ae4"
      },
      "execution_count": 18,
      "outputs": [
        {
          "output_type": "stream",
          "name": "stdout",
          "text": [
            "(3, 2)\n"
          ]
        }
      ]
    },
    {
      "cell_type": "markdown",
      "source": [
        "##### 2.2) Print the number of dimensions of the array\n",
        "\n",
        "\n"
      ],
      "metadata": {
        "id": "6A16PUuPnhRJ"
      }
    },
    {
      "cell_type": "code",
      "source": [
        "arr = np.array([[1,1],[4,1],[2,3]])\n",
        "\n",
        "print(arr.ndim)"
      ],
      "metadata": {
        "colab": {
          "base_uri": "https://localhost:8080/"
        },
        "id": "FgbMib87nn_4",
        "outputId": "90c26dbd-e3d4-4179-f039-a1a0f2264575"
      },
      "execution_count": 20,
      "outputs": [
        {
          "output_type": "stream",
          "name": "stdout",
          "text": [
            "3\n"
          ]
        }
      ]
    },
    {
      "cell_type": "markdown",
      "source": [
        "##### 2.3) Print the data type of the array"
      ],
      "metadata": {
        "id": "8Ek8jpgxnoT8"
      }
    },
    {
      "cell_type": "code",
      "source": [
        "arr = np.array([[1,1],[4,1],[2,3]])\n",
        "print(arr.dtype)"
      ],
      "metadata": {
        "colab": {
          "base_uri": "https://localhost:8080/"
        },
        "id": "WlQbJCQSnrIZ",
        "outputId": "0aca3041-0c57-43f3-afca-640cc6d78582"
      },
      "execution_count": 23,
      "outputs": [
        {
          "output_type": "stream",
          "name": "stdout",
          "text": [
            "int64\n"
          ]
        }
      ]
    },
    {
      "cell_type": "markdown",
      "source": [
        "##### 2.4) Print the size of the array"
      ],
      "metadata": {
        "id": "oyjrqYYNnreR"
      }
    },
    {
      "cell_type": "code",
      "source": [
        "arr = np.array([[1,1,2,2],[2,3,2,1]])\n",
        "print(arr.size)"
      ],
      "metadata": {
        "colab": {
          "base_uri": "https://localhost:8080/"
        },
        "id": "IpAK5TIGntux",
        "outputId": "901be1d0-daf1-42bf-e349-4bb8e842f231"
      },
      "execution_count": 34,
      "outputs": [
        {
          "output_type": "stream",
          "name": "stdout",
          "text": [
            "8\n"
          ]
        }
      ]
    },
    {
      "cell_type": "markdown",
      "source": [
        "##### 2.5) Print the item size | bytes taken by each element in an array"
      ],
      "metadata": {
        "id": "Bvtwn5gjnuJF"
      }
    },
    {
      "cell_type": "code",
      "source": [
        "arr = np.array([[1,1,2],[1,2,3],[3,2,1]])\n",
        "print(arr.itemsize)"
      ],
      "metadata": {
        "colab": {
          "base_uri": "https://localhost:8080/"
        },
        "id": "AjLAnYwunwza",
        "outputId": "5a0e2fd4-0088-4cfb-d0a1-99483b49a186"
      },
      "execution_count": 33,
      "outputs": [
        {
          "output_type": "stream",
          "name": "stdout",
          "text": [
            "8\n"
          ]
        }
      ]
    },
    {
      "cell_type": "markdown",
      "source": [
        "##### 2.6) Print the type of the array"
      ],
      "metadata": {
        "id": "JZ3153qOnxHd"
      }
    },
    {
      "cell_type": "code",
      "source": [
        "print(type(arr))"
      ],
      "metadata": {
        "colab": {
          "base_uri": "https://localhost:8080/"
        },
        "id": "g8-PLnuWnzI5",
        "outputId": "d53cf642-9dd0-416e-ec96-6fa09b13fb09"
      },
      "execution_count": 35,
      "outputs": [
        {
          "output_type": "stream",
          "name": "stdout",
          "text": [
            "<class 'numpy.ndarray'>\n"
          ]
        }
      ]
    }
  ]
}