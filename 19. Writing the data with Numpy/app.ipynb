{
  "nbformat": 4,
  "nbformat_minor": 0,
  "metadata": {
    "colab": {
      "provenance": []
    },
    "kernelspec": {
      "name": "python3",
      "display_name": "Python 3"
    },
    "language_info": {
      "name": "python"
    }
  },
  "cells": [
    {
      "cell_type": "code",
      "execution_count": 1,
      "metadata": {
        "id": "FjCmo8GW8Ldw"
      },
      "outputs": [],
      "source": [
        "import numpy as np"
      ]
    },
    {
      "cell_type": "markdown",
      "source": [
        "### 1. Replacing existing content"
      ],
      "metadata": {
        "id": "6DqFet8BrGWR"
      }
    },
    {
      "cell_type": "code",
      "source": [
        "data = np.array([1,2,3])\n",
        "np.savetxt('data-1.txt', data, delimiter = ',')\n",
        "\n",
        "data = np.array([4,5,6])\n",
        "np.savetxt('data-2.txt', data, delimiter = ',')"
      ],
      "metadata": {
        "id": "jthzncR0qvYf"
      },
      "execution_count": 12,
      "outputs": []
    },
    {
      "cell_type": "markdown",
      "source": [
        "### 2. Appending the data on existing file"
      ],
      "metadata": {
        "id": "fMgkaGjprJQU"
      }
    },
    {
      "cell_type": "code",
      "source": [
        "# data = np.array([1,2,3])\n",
        "# np.savetxt('data.txt', data, delimiter = ',')\n",
        "\n",
        "data = np.load('data.npy')\n",
        "\n",
        "# data = np.array([4,5,6])\n",
        "np.savetxt('data.txt', data, delimiter = ',')"
      ],
      "metadata": {
        "id": "lp_SBU4hq77g"
      },
      "execution_count": 15,
      "outputs": []
    }
  ]
}