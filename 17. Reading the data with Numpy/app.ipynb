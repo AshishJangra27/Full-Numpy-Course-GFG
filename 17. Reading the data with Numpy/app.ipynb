{
  "nbformat": 4,
  "nbformat_minor": 0,
  "metadata": {
    "colab": {
      "provenance": []
    },
    "kernelspec": {
      "name": "python3",
      "display_name": "Python 3"
    },
    "language_info": {
      "name": "python"
    }
  },
  "cells": [
    {
      "cell_type": "code",
      "execution_count": 1,
      "metadata": {
        "id": "FjCmo8GW8Ldw"
      },
      "outputs": [],
      "source": [
        "import numpy as np"
      ]
    },
    {
      "cell_type": "markdown",
      "source": [
        "### 1. textfile"
      ],
      "metadata": {
        "id": "5PBuSichoRZO"
      }
    },
    {
      "cell_type": "code",
      "source": [
        "data = np.loadtxt('data.txt')\n",
        "\n",
        "print(data)"
      ],
      "metadata": {
        "colab": {
          "base_uri": "https://localhost:8080/"
        },
        "id": "eY__ofWpoQPa",
        "outputId": "dd2d458d-703a-4bbd-d29b-ec948237e3cf"
      },
      "execution_count": 2,
      "outputs": [
        {
          "output_type": "stream",
          "name": "stdout",
          "text": [
            "[[1. 2. 3.]\n",
            " [4. 5. 6.]]\n"
          ]
        }
      ]
    },
    {
      "cell_type": "markdown",
      "source": [
        "### 2. npy"
      ],
      "metadata": {
        "id": "zS0ocObBo2WQ"
      }
    },
    {
      "cell_type": "code",
      "source": [
        "data = np.load('data.npy')\n",
        "\n",
        "print(data)"
      ],
      "metadata": {
        "colab": {
          "base_uri": "https://localhost:8080/"
        },
        "id": "cVgimwV4oqoI",
        "outputId": "3e576292-3fff-4278-c0d4-93720c341257"
      },
      "execution_count": 3,
      "outputs": [
        {
          "output_type": "stream",
          "name": "stdout",
          "text": [
            "[[1 2 3]\n",
            " [4 5 6]]\n"
          ]
        }
      ]
    },
    {
      "cell_type": "markdown",
      "source": [
        "### 3. csv"
      ],
      "metadata": {
        "id": "TC0BgksXpCWS"
      }
    },
    {
      "cell_type": "code",
      "source": [
        "data = np.loadtxt('data.csv')\n",
        "\n",
        "print(data)"
      ],
      "metadata": {
        "colab": {
          "base_uri": "https://localhost:8080/"
        },
        "id": "pRmlCGaRo7XZ",
        "outputId": "3474129a-536d-47ea-a14a-844d1c8081c7"
      },
      "execution_count": 6,
      "outputs": [
        {
          "output_type": "stream",
          "name": "stdout",
          "text": [
            "[[1. 2. 3.]\n",
            " [4. 5. 6.]]\n"
          ]
        }
      ]
    },
    {
      "cell_type": "markdown",
      "source": [
        "### 4. json"
      ],
      "metadata": {
        "id": "-4n-qQcKpabP"
      }
    },
    {
      "cell_type": "code",
      "source": [
        "data = np.loadtxt('data.json', delimiter = ',')\n",
        "\n",
        "print(data)"
      ],
      "metadata": {
        "colab": {
          "base_uri": "https://localhost:8080/"
        },
        "id": "i4Qyl6jGpMD4",
        "outputId": "fe0d4b4a-e8cc-4b98-e5db-9605826a6517"
      },
      "execution_count": 8,
      "outputs": [
        {
          "output_type": "stream",
          "name": "stdout",
          "text": [
            "[[1. 2. 3.]\n",
            " [4. 5. 6.]]\n"
          ]
        }
      ]
    },
    {
      "cell_type": "markdown",
      "source": [
        "### 5. yaml"
      ],
      "metadata": {
        "id": "toHTCui3prDx"
      }
    },
    {
      "cell_type": "code",
      "source": [
        "data = np.loadtxt('data.yaml', delimiter = ',')\n",
        "\n",
        "print(data)"
      ],
      "metadata": {
        "colab": {
          "base_uri": "https://localhost:8080/"
        },
        "id": "Plg6eSp0pd5N",
        "outputId": "e196782f-1fec-48b6-a000-1f61325d026f"
      },
      "execution_count": 9,
      "outputs": [
        {
          "output_type": "stream",
          "name": "stdout",
          "text": [
            "[[1. 2. 3.]\n",
            " [4. 5. 6.]]\n"
          ]
        }
      ]
    },
    {
      "cell_type": "code",
      "source": [],
      "metadata": {
        "id": "j3_spklOpuZl"
      },
      "execution_count": null,
      "outputs": []
    }
  ]
}