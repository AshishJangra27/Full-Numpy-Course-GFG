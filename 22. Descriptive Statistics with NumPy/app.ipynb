{
  "nbformat": 4,
  "nbformat_minor": 0,
  "metadata": {
    "colab": {
      "provenance": []
    },
    "kernelspec": {
      "name": "python3",
      "display_name": "Python 3"
    },
    "language_info": {
      "name": "python"
    }
  },
  "cells": [
    {
      "cell_type": "code",
      "execution_count": 1,
      "metadata": {
        "id": "FjCmo8GW8Ldw"
      },
      "outputs": [],
      "source": [
        "import numpy as np"
      ]
    },
    {
      "cell_type": "code",
      "source": [
        "arr = np.random.randint(low = 1, high = 101, size = 100)\n",
        "\n",
        "mean   = np.mean(arr)\n",
        "median = np.median(arr)\n",
        "\n",
        "variance = np.var(arr)\n",
        "std_dev  = np.std(arr)\n",
        "\n",
        "q1 = np.percentile(arr, 25)\n",
        "q2 = np.percentile(arr, 50)\n",
        "q3 = np.percentile(arr, 75)\n",
        "\n",
        "iqr = q3 - q1\n",
        "\n",
        "skewness = np.mean((arr - mean) ** 3) / (std_dev ** 3)\n",
        "kurtosis = np.mean((arr - mean) ** 4) / (std_dev ** 4)\n",
        "\n",
        "print('Mean      : ', mean)\n",
        "print('Median    : ', median)\n",
        "# print('Mode      : ', mode)\n",
        "print('-'*20)\n",
        "\n",
        "print('Variance  : ', variance)\n",
        "print('Standard  : ', std_dev)\n",
        "print('-'*20)\n",
        "\n",
        "print('Q1        : ', q1)\n",
        "print('Q2        : ', q2)\n",
        "print('Q3        : ', q3)\n",
        "print('-'*20)\n",
        "\n",
        "print('IQR       : ', iqr)\n",
        "print('Skewness  : ', skewness)\n",
        "print('Kurtosis  : ', kurtosis)"
      ],
      "metadata": {
        "colab": {
          "base_uri": "https://localhost:8080/"
        },
        "id": "SpIPXvBnuIjd",
        "outputId": "05cfc3ac-9475-4c0c-ce0c-df876b3e48aa"
      },
      "execution_count": 5,
      "outputs": [
        {
          "output_type": "stream",
          "name": "stdout",
          "text": [
            "Mean      :  51.83\n",
            "Median    :  50.5\n",
            "--------------------\n",
            "Variance  :  885.3811000000001\n",
            "Standard  :  29.75535414005352\n",
            "--------------------\n",
            "Q1        :  27.25\n",
            "Q2        :  50.5\n",
            "Q3        :  81.25\n",
            "--------------------\n",
            "IQR       :  54.0\n",
            "Skewness  :  -0.08043858595578982\n",
            "Kurtosis  :  1.74906835908474\n"
          ]
        }
      ]
    },
    {
      "cell_type": "code",
      "source": [],
      "metadata": {
        "id": "ZwcusIQqtFem"
      },
      "execution_count": null,
      "outputs": []
    }
  ]
}