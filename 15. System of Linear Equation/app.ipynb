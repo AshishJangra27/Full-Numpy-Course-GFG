{
  "nbformat": 4,
  "nbformat_minor": 0,
  "metadata": {
    "colab": {
      "provenance": []
    },
    "kernelspec": {
      "name": "python3",
      "display_name": "Python 3"
    },
    "language_info": {
      "name": "python"
    }
  },
  "cells": [
    {
      "cell_type": "code",
      "source": [
        "import numpy as np"
      ],
      "metadata": {
        "id": "qvjqHldMZmT4"
      },
      "execution_count": 7,
      "outputs": []
    },
    {
      "cell_type": "markdown",
      "source": [
        "### 1. Linear Equation"
      ],
      "metadata": {
        "id": "C_sydjG9Zo6D"
      }
    },
    {
      "cell_type": "code",
      "execution_count": 20,
      "metadata": {
        "colab": {
          "base_uri": "https://localhost:8080/"
        },
        "id": "Cwo32YOPZHQG",
        "outputId": "4c186415-b8c7-4153-8aa7-c5f9e6182659"
      },
      "outputs": [
        {
          "output_type": "execute_result",
          "data": {
            "text/plain": [
              "array([[-4. ],\n",
              "       [ 4.5]])"
            ]
          },
          "metadata": {},
          "execution_count": 20
        }
      ],
      "source": [
        "A = np.array([[1,2],[3,4]])\n",
        "B= np.array([[5],[6]])\n",
        "solution = np.linalg.solve(A,B)\n",
        "solution"
      ]
    },
    {
      "cell_type": "code",
      "source": [
        "A = np.array([[1,2,3],[4,5,6],[7,8,10]])\n",
        "B = np.array([[10],[11],[12]])\n",
        "solution = np.linalg.solve(A,B)\n",
        "solution"
      ],
      "metadata": {
        "colab": {
          "base_uri": "https://localhost:8080/"
        },
        "id": "Kh1csm9OZ2Qr",
        "outputId": "26488a4d-a78c-485a-a3a6-089911f1801a"
      },
      "execution_count": 21,
      "outputs": [
        {
          "output_type": "execute_result",
          "data": {
            "text/plain": [
              "array([[-9.33333333e+00],\n",
              "       [ 9.66666667e+00],\n",
              "       [ 3.55271368e-15]])"
            ]
          },
          "metadata": {},
          "execution_count": 21
        }
      ]
    }
  ]
}