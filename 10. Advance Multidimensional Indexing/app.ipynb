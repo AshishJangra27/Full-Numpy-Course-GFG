{
  "nbformat": 4,
  "nbformat_minor": 0,
  "metadata": {
    "colab": {
      "provenance": []
    },
    "kernelspec": {
      "name": "python3",
      "display_name": "Python 3"
    },
    "language_info": {
      "name": "python"
    }
  },
  "cells": [
    {
      "cell_type": "code",
      "execution_count": 12,
      "metadata": {
        "id": "FjCmo8GW8Ldw"
      },
      "outputs": [],
      "source": [
        "import numpy as np"
      ]
    },
    {
      "cell_type": "code",
      "source": [
        "arr = np.array([[[1,2,3],[4,5,6],[1,3,5]], [[7,8,9],[10,11,12],[4,5,3]], [[7,8,9],[10,11,12],[4,5,3]]])\n",
        "print(arr)\n",
        "print('-'*10)\n",
        "\n",
        "# Access a specific Element\n",
        "print(arr[0][1][2])\n",
        "print(arr[0,1,2])\n",
        "print('-'*10)\n",
        "\n",
        "# Access a specific row\n",
        "print(arr[0])\n",
        "print(arr[0,:])\n",
        "print(arr[0,:,:])\n",
        "print(arr[:,0,:])\n",
        "print(arr[:,:,0])\n",
        "print('-'*10)\n",
        "\n",
        "# Access with specific case\n",
        "print(arr[[1,2], : , :])\n",
        "print(arr[[1,2], : , 1])\n",
        "print('-'*10)\n",
        "\n",
        "# Access with specific conditions\n",
        "print(arr[arr>5])\n",
        "arr[arr >= 18] = \"True\"\n",
        "print(arr)"
      ],
      "metadata": {
        "colab": {
          "base_uri": "https://localhost:8080/"
        },
        "id": "bweWgzXiW-ms",
        "outputId": "058bb7fa-a2d5-41e1-811e-0c9f162f6de6"
      },
      "execution_count": 56,
      "outputs": [
        {
          "output_type": "stream",
          "name": "stdout",
          "text": [
            "[[[ 1  2  3]\n",
            "  [ 4  5  6]\n",
            "  [ 1  3  5]]\n",
            "\n",
            " [[ 7  8  9]\n",
            "  [10 11 12]\n",
            "  [ 4  5  3]]\n",
            "\n",
            " [[ 7  8  9]\n",
            "  [10 11 12]\n",
            "  [ 4  5  3]]]\n",
            "----------\n",
            "6\n",
            "6\n",
            "----------\n",
            "[[1 2 3]\n",
            " [4 5 6]\n",
            " [1 3 5]]\n",
            "[[1 2 3]\n",
            " [4 5 6]\n",
            " [1 3 5]]\n",
            "[[1 2 3]\n",
            " [4 5 6]\n",
            " [1 3 5]]\n",
            "[[1 2 3]\n",
            " [7 8 9]\n",
            " [7 8 9]]\n",
            "[[ 1  4  1]\n",
            " [ 7 10  4]\n",
            " [ 7 10  4]]\n",
            "----------\n",
            "[[[ 7  8  9]\n",
            "  [10 11 12]\n",
            "  [ 4  5  3]]\n",
            "\n",
            " [[ 7  8  9]\n",
            "  [10 11 12]\n",
            "  [ 4  5  3]]]\n",
            "[[ 8 11  5]\n",
            " [ 8 11  5]]\n",
            "----------\n",
            "[ 6  7  8  9 10 11 12  7  8  9 10 11 12]\n",
            "[[[1 2 3]\n",
            "  [4 0 0]\n",
            "  [1 3 0]]\n",
            "\n",
            " [[0 0 0]\n",
            "  [0 0 0]\n",
            "  [4 0 3]]\n",
            "\n",
            " [[0 0 0]\n",
            "  [0 0 0]\n",
            "  [4 0 3]]]\n"
          ]
        }
      ]
    },
    {
      "cell_type": "code",
      "source": [],
      "metadata": {
        "id": "9frrX-e5XGsX"
      },
      "execution_count": null,
      "outputs": []
    }
  ]
}