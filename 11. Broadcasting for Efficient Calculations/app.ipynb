{
  "nbformat": 4,
  "nbformat_minor": 0,
  "metadata": {
    "colab": {
      "provenance": []
    },
    "kernelspec": {
      "name": "python3",
      "display_name": "Python 3"
    },
    "language_info": {
      "name": "python"
    }
  },
  "cells": [
    {
      "cell_type": "code",
      "execution_count": 1,
      "metadata": {
        "id": "FjCmo8GW8Ldw"
      },
      "outputs": [],
      "source": [
        "import numpy as np"
      ]
    },
    {
      "cell_type": "markdown",
      "source": [
        "### 1. Arithmetic"
      ],
      "metadata": {
        "id": "riAhrkZ9Rucp"
      }
    },
    {
      "cell_type": "code",
      "source": [
        "a = np.array([1, 2, 3])\n",
        "b = np.array([[1, 2, 3],[4,5,6]])\n",
        "\n",
        "print(a)\n",
        "print(b)\n",
        "print('-'*10)\n",
        "\n",
        "# Addition\n",
        "print(a + 2)\n",
        "print(a + b)\n",
        "print('-'*10)\n",
        "\n",
        "\n",
        "# Subtract\n",
        "print(a - 2)\n",
        "print(a - b)\n",
        "print('-'*10)\n",
        "\n",
        "# Multiplication\n",
        "print(a * 2)\n",
        "print(a * b)\n",
        "print('-'*10)\n",
        "\n",
        "# Division\n",
        "print(a / 2)\n",
        "print(a / b)\n",
        "print('-'*10)\n",
        "\n",
        "# Exponential\n",
        "print(a ** 2)\n",
        "print(a ** b)\n",
        "print('-'*10)\n",
        "\n",
        "# Modulo\n",
        "print(a % 2)\n",
        "print(a % b)\n",
        "print('-'*10)"
      ],
      "metadata": {
        "id": "VFfIqfSgRwHN"
      },
      "execution_count": null,
      "outputs": []
    },
    {
      "cell_type": "markdown",
      "source": [
        "### 2. Comparison"
      ],
      "metadata": {
        "id": "LFhZqElFTjoM"
      }
    },
    {
      "cell_type": "code",
      "source": [
        "a = np.array([1,2,3])\n",
        "b = np.array([[1, 2, 3],[4,5,6]])\n",
        "\n",
        "print(a)\n",
        "print(b)\n",
        "print('-'*10)\n",
        "\n",
        "# >\n",
        "print(a > b)\n",
        "print('-'*10)\n",
        "\n",
        "# <\n",
        "print(a < b)\n",
        "print('-'*10)\n",
        "\n",
        "# >=\n",
        "print(a >= b)\n",
        "print('-'*10)\n",
        "\n",
        "# <=\n",
        "print(a <= b)\n",
        "print('-'*10)\n",
        "\n",
        "# ==\n",
        "print(a == b)\n",
        "print('-'*10)\n",
        "\n",
        "# !=\n",
        "print(a != b)"
      ],
      "metadata": {
        "id": "MXU0fXJ_R4EA"
      },
      "execution_count": null,
      "outputs": []
    },
    {
      "cell_type": "markdown",
      "source": [
        "### 3. Logical"
      ],
      "metadata": {
        "id": "rm0wdOh5Ufvf"
      }
    },
    {
      "cell_type": "code",
      "source": [
        "a = np.array([1,2,3])\n",
        "b = np.array([[1, 2, 3],[4,5,6]])\n",
        "print(a)\n",
        "print(b)\n",
        "\n",
        "print('-'*10)\n",
        "\n",
        "print(a & b)\n",
        "print('-'*10)\n",
        "\n",
        "print(a | b)\n",
        "print('-'*10)\n",
        "\n",
        "print(a ^ b)\n",
        "print('-'*10)"
      ],
      "metadata": {
        "colab": {
          "base_uri": "https://localhost:8080/"
        },
        "id": "gSYvx1e7SAEl",
        "outputId": "b8be3537-e232-4d69-b3a9-29f4d8469a20"
      },
      "execution_count": 180,
      "outputs": [
        {
          "output_type": "stream",
          "name": "stdout",
          "text": [
            "[1 2 3]\n",
            "[[1 2 3]\n",
            " [4 5 6]]\n",
            "----------\n",
            "[[1 2 3]\n",
            " [0 0 2]]\n",
            "----------\n",
            "[[1 2 3]\n",
            " [5 7 7]]\n",
            "----------\n",
            "[[0 0 0]\n",
            " [5 7 5]]\n",
            "----------\n"
          ]
        }
      ]
    },
    {
      "cell_type": "markdown",
      "source": [
        "### 4. bitwise"
      ],
      "metadata": {
        "id": "-dHCsEs4VMvF"
      }
    },
    {
      "cell_type": "code",
      "source": [
        "a = np.array([1,2,3])\n",
        "b = np.array([[1, 2, 3],[4,5,6]])\n",
        "\n",
        "print(a)\n",
        "print(b)\n",
        "print('-'*10)\n",
        "\n",
        "print(np.bitwise_and(a,b))\n",
        "\n",
        "print(np.bitwise_or(a,b))\n",
        "\n",
        "print(np.bitwise_xor(a,b))\n",
        "\n",
        "print(np.bitwise_not(a,b))\n",
        "\n",
        "print(np.right_shift(a,b))\n",
        "\n",
        "print(np.left_shift(a,b))"
      ],
      "metadata": {
        "colab": {
          "base_uri": "https://localhost:8080/"
        },
        "id": "xO58DH8RUy0R",
        "outputId": "c120e5cc-80af-43e3-e921-41912e40b969"
      },
      "execution_count": 3,
      "outputs": [
        {
          "output_type": "stream",
          "name": "stdout",
          "text": [
            "[1 2 3]\n",
            "[[1 2 3]\n",
            " [4 5 6]]\n",
            "----------\n",
            "[[1 2 3]\n",
            " [0 0 2]]\n",
            "[[1 2 3]\n",
            " [5 7 7]]\n",
            "[[0 0 0]\n",
            " [5 7 5]]\n",
            "[[-2 -3 -4]\n",
            " [-2 -3 -4]]\n",
            "[[0 0 0]\n",
            " [0 0 0]]\n",
            "[[0 0 0]\n",
            " [0 0 0]]\n"
          ]
        }
      ]
    }
  ]
}