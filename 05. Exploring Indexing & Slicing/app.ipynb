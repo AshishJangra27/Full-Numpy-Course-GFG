{
  "nbformat": 4,
  "nbformat_minor": 0,
  "metadata": {
    "colab": {
      "provenance": []
    },
    "kernelspec": {
      "name": "python3",
      "display_name": "Python 3"
    },
    "language_info": {
      "name": "python"
    }
  },
  "cells": [
    {
      "cell_type": "code",
      "execution_count": 140,
      "metadata": {
        "id": "FjCmo8GW8Ldw"
      },
      "outputs": [],
      "source": [
        "import numpy as np"
      ]
    },
    {
      "cell_type": "markdown",
      "source": [
        "### 1. Indexing and Slicing in Lists"
      ],
      "metadata": {
        "id": "G97w_FeGeGNr"
      }
    },
    {
      "cell_type": "code",
      "source": [
        "my_list = [1, 2, 3, 4, 5]\n",
        "print(my_list[0])\n",
        "print(my_list[-1])\n",
        "print(my_list[2])\n",
        "print(my_list[1:4])\n",
        "print(my_list[:3])\n",
        "print(my_list[3:])\n",
        "print(my_list[::2])\n",
        "print(my_list[::-1])\n",
        "\n",
        "my_list[0] = 10\n",
        "print(my_list)\n",
        "\n",
        "del my_list[1]\n",
        "print(my_list)\n",
        "\n",
        "my_list[1:1] = [20, 30]\n",
        "print(my_list)"
      ],
      "metadata": {
        "id": "prgx-9sjeDnc"
      },
      "execution_count": null,
      "outputs": []
    },
    {
      "cell_type": "markdown",
      "source": [
        "### 2. Indexing and Slicing in Arrays"
      ],
      "metadata": {
        "id": "u0w68RUjeIYa"
      }
    },
    {
      "cell_type": "code",
      "source": [
        "my_array = np.array([1, 2, 3, 4, 5])\n",
        "\n",
        "print(my_array[0])\n",
        "print(my_array[-1])\n",
        "print(my_array[2])\n",
        "\n",
        "print(my_array[1:4])\n",
        "print(my_array[:3])\n",
        "print(my_array[3:])\n",
        "print(my_array[::2])\n",
        "print(my_array[::-1])\n",
        "\n",
        "my_array[0] = 10\n",
        "print(my_array)\n",
        "\n",
        "np.delete(my_array, 1)\n",
        "print(my_array)\n",
        "\n",
        "np.insert(my_array, 1, [20, 30])\n",
        "print(my_array)"
      ],
      "metadata": {
        "id": "PeQL6qY0eKK6"
      },
      "execution_count": null,
      "outputs": []
    }
  ]
}