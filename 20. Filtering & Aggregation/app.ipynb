{
  "nbformat": 4,
  "nbformat_minor": 0,
  "metadata": {
    "colab": {
      "provenance": []
    },
    "kernelspec": {
      "name": "python3",
      "display_name": "Python 3"
    },
    "language_info": {
      "name": "python"
    }
  },
  "cells": [
    {
      "cell_type": "code",
      "execution_count": 4,
      "metadata": {
        "id": "FjCmo8GW8Ldw",
        "colab": {
          "base_uri": "https://localhost:8080/"
        },
        "outputId": "ce7af2b4-da3e-49f5-b71b-71700dcd0fef"
      },
      "outputs": [
        {
          "output_type": "execute_result",
          "data": {
            "text/plain": [
              "array([[ 1,  9,  8,  5,  1],\n",
              "       [ 7,  8,  2,  4,  9],\n",
              "       [ 2,  4,  7,  5,  6],\n",
              "       [ 9, 10,  9,  5,  5],\n",
              "       [ 7,  4,  1,  8,  4]])"
            ]
          },
          "metadata": {},
          "execution_count": 4
        }
      ],
      "source": [
        "import numpy as np\n",
        "\n",
        "arr = np.random.randint(1,11,size=(5,5))\n",
        "arr"
      ]
    },
    {
      "cell_type": "markdown",
      "source": [
        "### 1. Filtering"
      ],
      "metadata": {
        "id": "bK-KFwIcf1dc"
      }
    },
    {
      "cell_type": "markdown",
      "source": [
        "##### 1.1) Filter elements greater than 5"
      ],
      "metadata": {
        "id": "aheNjOJkgCwP"
      }
    },
    {
      "cell_type": "code",
      "source": [
        "arr[arr>5]"
      ],
      "metadata": {
        "colab": {
          "base_uri": "https://localhost:8080/"
        },
        "id": "agv_L0v0f3QP",
        "outputId": "b29f25ca-2a05-4624-facd-e4552602cd72"
      },
      "execution_count": 7,
      "outputs": [
        {
          "output_type": "execute_result",
          "data": {
            "text/plain": [
              "array([ 9,  8,  7,  8,  9,  7,  6,  9, 10,  9,  7,  8])"
            ]
          },
          "metadata": {},
          "execution_count": 7
        }
      ]
    },
    {
      "cell_type": "markdown",
      "source": [
        "##### 1.2) Filter the elements that are even"
      ],
      "metadata": {
        "id": "dFBlcPezgR8G"
      }
    },
    {
      "cell_type": "code",
      "source": [
        "arr[arr%2 == 0]"
      ],
      "metadata": {
        "colab": {
          "base_uri": "https://localhost:8080/"
        },
        "id": "S9rtMgBQf8P0",
        "outputId": "8541aaac-59dd-4dfb-be73-cadcf1869303"
      },
      "execution_count": 12,
      "outputs": [
        {
          "output_type": "execute_result",
          "data": {
            "text/plain": [
              "array([ 8,  8,  2,  4,  2,  4,  6, 10,  4,  8,  4])"
            ]
          },
          "metadata": {},
          "execution_count": 12
        }
      ]
    },
    {
      "cell_type": "markdown",
      "source": [
        "##### 1.3) Filter elements that are both greather than 5 and even"
      ],
      "metadata": {
        "id": "txZoSryGgqeL"
      }
    },
    {
      "cell_type": "code",
      "source": [
        "arr[(arr>5) & (arr%2 == 0)]"
      ],
      "metadata": {
        "colab": {
          "base_uri": "https://localhost:8080/"
        },
        "id": "Bfy-qVF9gY0y",
        "outputId": "a0bbc3ad-07b3-42d9-961d-21c2e7ccbe70"
      },
      "execution_count": 19,
      "outputs": [
        {
          "output_type": "execute_result",
          "data": {
            "text/plain": [
              "array([ 8,  8,  6, 10,  8])"
            ]
          },
          "metadata": {},
          "execution_count": 19
        }
      ]
    },
    {
      "cell_type": "markdown",
      "source": [
        "##### 1.4) Filter elements that are divisible by either 3 or 7"
      ],
      "metadata": {
        "id": "5kzF1IfJhUTy"
      }
    },
    {
      "cell_type": "code",
      "source": [
        "arr[(arr % 3 == 0) | (arr % 7 == 0)]"
      ],
      "metadata": {
        "colab": {
          "base_uri": "https://localhost:8080/"
        },
        "id": "pBnmlGyEhG0s",
        "outputId": "0b17eafb-ec4b-4f3c-fb2a-2bc0531766a6"
      },
      "execution_count": 21,
      "outputs": [
        {
          "output_type": "execute_result",
          "data": {
            "text/plain": [
              "array([9, 7, 9, 7, 6, 9, 9, 7])"
            ]
          },
          "metadata": {},
          "execution_count": 21
        }
      ]
    },
    {
      "cell_type": "markdown",
      "source": [
        "##### 1.5) Filter elements that based on condition on another array"
      ],
      "metadata": {
        "id": "rgPMnnhXht2M"
      }
    },
    {
      "cell_type": "code",
      "source": [
        " arr1 = np.array([True, False, True,False,True])\n",
        "\n",
        " arr[arr1]"
      ],
      "metadata": {
        "colab": {
          "base_uri": "https://localhost:8080/"
        },
        "id": "Uv4NPExihoT6",
        "outputId": "edd5aa12-4a51-451a-bfcd-4c1506ae0f93"
      },
      "execution_count": 26,
      "outputs": [
        {
          "output_type": "execute_result",
          "data": {
            "text/plain": [
              "array([[1, 9, 8, 5, 1],\n",
              "       [2, 4, 7, 5, 6],\n",
              "       [7, 4, 1, 8, 4]])"
            ]
          },
          "metadata": {},
          "execution_count": 26
        }
      ]
    },
    {
      "cell_type": "markdown",
      "source": [
        "##### 1.6 Filter the elements based on condition of specific row"
      ],
      "metadata": {
        "id": "FUoTykeDiT3I"
      }
    },
    {
      "cell_type": "code",
      "source": [
        "filtered_arr = arr[2][arr[2,:] > 5]\n",
        "\n",
        "filtered_arr"
      ],
      "metadata": {
        "colab": {
          "base_uri": "https://localhost:8080/"
        },
        "id": "U1sHI8qOh-Pm",
        "outputId": "7ae67846-716d-45d0-8269-f64ec2875780"
      },
      "execution_count": 40,
      "outputs": [
        {
          "output_type": "execute_result",
          "data": {
            "text/plain": [
              "array([7, 6])"
            ]
          },
          "metadata": {},
          "execution_count": 40
        }
      ]
    },
    {
      "cell_type": "markdown",
      "source": [
        "### 2. Aggregate Functions"
      ],
      "metadata": {
        "id": "iZt7mz1yjPj_"
      }
    },
    {
      "cell_type": "markdown",
      "source": [
        "##### 2.1) sum"
      ],
      "metadata": {
        "id": "WuwYENJSjsCo"
      }
    },
    {
      "cell_type": "code",
      "source": [
        "arr = np.array([1,2,3,4,5])\n",
        "print(np.sum(arr))\n",
        "\n",
        "arr = np.array([[1,2,3],[4,5,6]])\n",
        "print(np.sum(arr))\n",
        "print(np.sum(arr, axis = 0))\n",
        "print(np.sum(arr, axis = 1))"
      ],
      "metadata": {
        "colab": {
          "base_uri": "https://localhost:8080/"
        },
        "id": "lMWL6bDGjR1E",
        "outputId": "e8cbbe1d-1b5e-4f2e-dff3-4840482fe7d7"
      },
      "execution_count": 47,
      "outputs": [
        {
          "output_type": "stream",
          "name": "stdout",
          "text": [
            "15\n",
            "21\n",
            "[5 7 9]\n",
            "[ 6 15]\n"
          ]
        }
      ]
    },
    {
      "cell_type": "markdown",
      "source": [
        "##### 2.2) mean"
      ],
      "metadata": {
        "id": "UbIIDSd4j-3U"
      }
    },
    {
      "cell_type": "code",
      "source": [
        "arr = np.array([1,2,3,4,5])\n",
        "print(np.mean(arr))\n",
        "\n",
        "arr = np.array([[1,2,3],[4,5,6]])\n",
        "print(np.mean(arr))\n",
        "print(np.mean(arr, axis = 0))\n",
        "print(np.mean(arr, axis = 1))"
      ],
      "metadata": {
        "colab": {
          "base_uri": "https://localhost:8080/"
        },
        "id": "J62jtcCgjbxz",
        "outputId": "21142a20-9ec9-47f9-c40f-16d1ad742322"
      },
      "execution_count": 49,
      "outputs": [
        {
          "output_type": "stream",
          "name": "stdout",
          "text": [
            "3.0\n",
            "3.5\n",
            "[2.5 3.5 4.5]\n",
            "[2. 5.]\n"
          ]
        }
      ]
    },
    {
      "cell_type": "markdown",
      "source": [
        "##### 2.3) standard daviation"
      ],
      "metadata": {
        "id": "vM7A-LYGkbFj"
      }
    },
    {
      "cell_type": "code",
      "source": [
        "arr = np.array([1,2,3,4,5])\n",
        "print(np.std(arr))\n",
        "\n",
        "arr = np.array([[1,2,3],[4,5,6]])\n",
        "print(np.std(arr))\n",
        "print(np.std(arr, axis = 0))\n",
        "print(np.std(arr, axis = 1))"
      ],
      "metadata": {
        "colab": {
          "base_uri": "https://localhost:8080/"
        },
        "id": "cg3waFu0kCD5",
        "outputId": "8e0676fc-58d0-4c97-806e-1413a33d9c55"
      },
      "execution_count": 51,
      "outputs": [
        {
          "output_type": "stream",
          "name": "stdout",
          "text": [
            "1.4142135623730951\n",
            "1.707825127659933\n",
            "[1.5 1.5 1.5]\n",
            "[0.81649658 0.81649658]\n"
          ]
        }
      ]
    },
    {
      "cell_type": "markdown",
      "source": [
        "##### 2.4) min-max"
      ],
      "metadata": {
        "id": "rDMt7eVvko93"
      }
    },
    {
      "cell_type": "code",
      "source": [
        "arr = np.array([1,2,3,4,5])\n",
        "print(np.min(arr))\n",
        "\n",
        "arr = np.array([[1,2,3],[4,5,6]])\n",
        "print(np.min(arr))\n",
        "print(np.min(arr, axis = 0))\n",
        "print(np.min(arr, axis = 1))\n",
        "\n",
        "print('-'*20)\n",
        "\n",
        "arr = np.array([1,2,3,4,5])\n",
        "print(np.max(arr))\n",
        "\n",
        "arr = np.array([[1,2,3],[4,5,6]])\n",
        "print(np.max(arr))\n",
        "print(np.max(arr, axis = 0))\n",
        "print(np.max(arr, axis = 1))"
      ],
      "metadata": {
        "colab": {
          "base_uri": "https://localhost:8080/"
        },
        "id": "PQlSB5s9kgtf",
        "outputId": "3ca1cb84-2633-4033-990b-e70fce450e5d"
      },
      "execution_count": 54,
      "outputs": [
        {
          "output_type": "stream",
          "name": "stdout",
          "text": [
            "1\n",
            "1\n",
            "[1 2 3]\n",
            "[1 4]\n",
            "--------------------\n",
            "5\n",
            "6\n",
            "[4 5 6]\n",
            "[3 6]\n"
          ]
        }
      ]
    }
  ]
}