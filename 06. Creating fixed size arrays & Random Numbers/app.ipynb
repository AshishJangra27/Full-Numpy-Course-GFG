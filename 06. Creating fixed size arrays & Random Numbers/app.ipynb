{
  "nbformat": 4,
  "nbformat_minor": 0,
  "metadata": {
    "colab": {
      "provenance": []
    },
    "kernelspec": {
      "name": "python3",
      "display_name": "Python 3"
    },
    "language_info": {
      "name": "python"
    }
  },
  "cells": [
    {
      "cell_type": "code",
      "execution_count": 140,
      "metadata": {
        "id": "FjCmo8GW8Ldw"
      },
      "outputs": [],
      "source": [
        "import numpy as np"
      ]
    },
    {
      "cell_type": "markdown",
      "source": [
        "### 1. Zeros"
      ],
      "metadata": {
        "id": "G97w_FeGeGNr"
      }
    },
    {
      "cell_type": "code",
      "source": [
        "zeros_array = np.zeros(10)\n",
        "print(zeros_array)\n",
        "print('-----')\n",
        "\n",
        "zeros_array = np.zeros((2, 4))\n",
        "print(zeros_array)\n",
        "print('-----')\n",
        "\n",
        "zeros_array = np.zeros((2, 3, 4))\n",
        "print(zeros_array)\n",
        "print('-----')\n",
        "\n",
        "zeros_array = np.zeros((2, 3), dtype = int)\n",
        "print(zeros_array)"
      ],
      "metadata": {
        "colab": {
          "base_uri": "https://localhost:8080/"
        },
        "id": "8uUqLBrpedtD",
        "outputId": "4ffe4f66-077e-4c09-faf7-dfa2c25e851a"
      },
      "execution_count": 141,
      "outputs": [
        {
          "output_type": "stream",
          "name": "stdout",
          "text": [
            "[0. 0. 0. 0. 0. 0. 0. 0. 0. 0.]\n",
            "-----\n",
            "[[0. 0. 0. 0.]\n",
            " [0. 0. 0. 0.]]\n",
            "-----\n",
            "[[[0. 0. 0. 0.]\n",
            "  [0. 0. 0. 0.]\n",
            "  [0. 0. 0. 0.]]\n",
            "\n",
            " [[0. 0. 0. 0.]\n",
            "  [0. 0. 0. 0.]\n",
            "  [0. 0. 0. 0.]]]\n",
            "-----\n",
            "[[0 0 0]\n",
            " [0 0 0]]\n"
          ]
        }
      ]
    },
    {
      "cell_type": "markdown",
      "source": [
        "### 2. Ones"
      ],
      "metadata": {
        "id": "6QzQCXYkeeCM"
      }
    },
    {
      "cell_type": "code",
      "source": [
        "ones_array = np.ones(10)\n",
        "print(ones_array)\n",
        "print('-----')\n",
        "\n",
        "ones_array = np.ones((2, 4))\n",
        "print(ones_array)\n",
        "print('-----')\n",
        "\n",
        "ones_array = np.ones((2, 3, 4))\n",
        "print(ones_array)\n",
        "print('-----')\n",
        "\n",
        "ones_array = np.ones((2, 3), dtype = int)\n",
        "print(ones_array)"
      ],
      "metadata": {
        "colab": {
          "base_uri": "https://localhost:8080/"
        },
        "id": "HsEOxC3-ege7",
        "outputId": "42cc2721-8bf2-4876-9490-f99a89c8ad56"
      },
      "execution_count": 142,
      "outputs": [
        {
          "output_type": "stream",
          "name": "stdout",
          "text": [
            "[1. 1. 1. 1. 1. 1. 1. 1. 1. 1.]\n",
            "-----\n",
            "[[1. 1. 1. 1.]\n",
            " [1. 1. 1. 1.]]\n",
            "-----\n",
            "[[[1. 1. 1. 1.]\n",
            "  [1. 1. 1. 1.]\n",
            "  [1. 1. 1. 1.]]\n",
            "\n",
            " [[1. 1. 1. 1.]\n",
            "  [1. 1. 1. 1.]\n",
            "  [1. 1. 1. 1.]]]\n",
            "-----\n",
            "[[1 1 1]\n",
            " [1 1 1]]\n"
          ]
        }
      ]
    },
    {
      "cell_type": "markdown",
      "source": [
        "### 3. Eye"
      ],
      "metadata": {
        "id": "qphbgstJeg27"
      }
    },
    {
      "cell_type": "code",
      "source": [
        "eye_array = np.eye(3)\n",
        "print(eye_array)\n",
        "print('-----')\n",
        "\n",
        "eye_array = np.eye(3, 4)\n",
        "print(eye_array)\n",
        "print('-----')\n",
        "\n",
        "eye_array = np.eye(3, 4, dtype = int)\n",
        "print(eye_array)"
      ],
      "metadata": {
        "colab": {
          "base_uri": "https://localhost:8080/"
        },
        "id": "zxnGKTqxei37",
        "outputId": "755b213f-7b6a-4645-e45e-c562ba19ab76"
      },
      "execution_count": 143,
      "outputs": [
        {
          "output_type": "stream",
          "name": "stdout",
          "text": [
            "[[1. 0. 0.]\n",
            " [0. 1. 0.]\n",
            " [0. 0. 1.]]\n",
            "-----\n",
            "[[1. 0. 0. 0.]\n",
            " [0. 1. 0. 0.]\n",
            " [0. 0. 1. 0.]]\n",
            "-----\n",
            "[[1 0 0 0]\n",
            " [0 1 0 0]\n",
            " [0 0 1 0]]\n"
          ]
        }
      ]
    },
    {
      "cell_type": "markdown",
      "source": [
        " ### 4. Random Number Generation"
      ],
      "metadata": {
        "id": "ZAPWddMOejYj"
      }
    },
    {
      "cell_type": "code",
      "source": [
        "print(np.random.rand())\n",
        "print(np.random.rand(10))\n",
        "print(np.random.rand(3, 3))\n",
        "\n",
        "print(np.random.randint(100))\n",
        "print(np.random.randint(100, size=10))\n",
        "print(np.random.randint(100, size=(3, 3)))\n",
        "print(np.random.randint(low=100, high=200, size=(3, 3)))\n",
        "\n",
        "# Generate a random number from a normal distribution with mean 0 and standard deviation 1\n",
        "print(np.random.randn())\n",
        "\n",
        "# Generate a 2D array of 3x3 random numbers from a uniform distribution between 0 and 1\n",
        "print(np.random.uniform(size=(3, 3)))\n",
        "\n",
        "# Generate a 2D array of 3x3 random numbers from a binomial distribution with n=10 and p=0.5\n",
        "print(np.random.binomial(10, 0.5, size=(3, 3)))\n",
        "\n",
        "# Poisson ,Exponential, Gamma, Chi-squared, T-distribution, F-distribution Beta Log-normal Laplace"
      ],
      "metadata": {
        "colab": {
          "base_uri": "https://localhost:8080/"
        },
        "id": "xr8R11aJenJJ",
        "outputId": "5e64e132-bb48-472a-8689-b301bc6e0501"
      },
      "execution_count": 144,
      "outputs": [
        {
          "output_type": "stream",
          "name": "stdout",
          "text": [
            "0.7338305664313527\n",
            "[0.91581302 0.99275679 0.00570013 0.38339361 0.07665591 0.34215239\n",
            " 0.38454908 0.70341512 0.62588359 0.86636757]\n",
            "[[0.27616757 0.53582686 0.49108533]\n",
            " [0.20538545 0.18673001 0.80832864]\n",
            " [0.83919948 0.62655159 0.65940628]]\n",
            "97\n",
            "[76 59 97  7 27 23 62 18 64 24]\n",
            "[[30 36 30]\n",
            " [31 43 86]\n",
            " [60 55 22]]\n",
            "[[171 119 133]\n",
            " [179 109 184]\n",
            " [161 159 180]]\n",
            "-0.0596788432095212\n",
            "[[0.13292975 0.18059088 0.28364867]\n",
            " [0.7254095  0.78564065 0.21566929]\n",
            " [0.26057121 0.21164359 0.77006823]]\n",
            "[[3 5 4]\n",
            " [2 6 6]\n",
            " [4 7 8]]\n"
          ]
        }
      ]
    }
  ]
}