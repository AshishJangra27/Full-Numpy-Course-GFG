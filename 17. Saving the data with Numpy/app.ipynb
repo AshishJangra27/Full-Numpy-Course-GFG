{
  "nbformat": 4,
  "nbformat_minor": 0,
  "metadata": {
    "colab": {
      "provenance": []
    },
    "kernelspec": {
      "name": "python3",
      "display_name": "Python 3"
    },
    "language_info": {
      "name": "python"
    }
  },
  "cells": [
    {
      "cell_type": "code",
      "execution_count": 1,
      "metadata": {
        "id": "FjCmo8GW8Ldw"
      },
      "outputs": [],
      "source": [
        "import numpy as np"
      ]
    },
    {
      "cell_type": "markdown",
      "source": [
        "### 1. textfile"
      ],
      "metadata": {
        "id": "wV9rrs1CgznD"
      }
    },
    {
      "cell_type": "code",
      "source": [
        "arr = np.array([[1,2,3],[4,5,6]])\n",
        "\n",
        "np.savetxt('data.txt',arr)"
      ],
      "metadata": {
        "id": "q2_3lTVJgzCl"
      },
      "execution_count": 29,
      "outputs": []
    },
    {
      "cell_type": "markdown",
      "source": [
        "### 2. npy"
      ],
      "metadata": {
        "id": "hYIznVP2hzsQ"
      }
    },
    {
      "cell_type": "code",
      "source": [
        "arr = np.array([[1,2,3],[4,5,6]])\n",
        "\n",
        "np.save('data.npy', arr)"
      ],
      "metadata": {
        "id": "t3nvyVRtg_qe"
      },
      "execution_count": 30,
      "outputs": []
    },
    {
      "cell_type": "markdown",
      "source": [
        "### 3. csv"
      ],
      "metadata": {
        "id": "d6AQqwuHiG35"
      }
    },
    {
      "cell_type": "code",
      "source": [
        "arr = np.array([[1,2,3],[4,5,6]])\n",
        "\n",
        "np.savetxt('data.csv',arr, delimiter = ',', header = 'a,b,c')"
      ],
      "metadata": {
        "id": "41vxxsibhe5a"
      },
      "execution_count": 34,
      "outputs": []
    },
    {
      "cell_type": "markdown",
      "source": [
        "### 4. json"
      ],
      "metadata": {
        "id": "Mm6NvazdivjT"
      }
    },
    {
      "cell_type": "code",
      "source": [
        "arr = np.array([[1,2,3],[4,5,6]])\n",
        "np.savetxt('data.json',arr, delimiter = ',', header = '{\"data\"  : [', footer = ']}')"
      ],
      "metadata": {
        "id": "UuJ3ZCwwi9JX"
      },
      "execution_count": 36,
      "outputs": []
    },
    {
      "cell_type": "markdown",
      "source": [
        "### 5. yaml"
      ],
      "metadata": {
        "id": "9KmozZqYjkuQ"
      }
    },
    {
      "cell_type": "code",
      "source": [
        "arr = np.array([[1,2,3],[4,5,6]])\n",
        "\n",
        "np.savetxt('data.yaml',arr, delimiter = ',', header = '- data : ')"
      ],
      "metadata": {
        "id": "76UK_08hjcN9"
      },
      "execution_count": 37,
      "outputs": []
    }
  ]
}