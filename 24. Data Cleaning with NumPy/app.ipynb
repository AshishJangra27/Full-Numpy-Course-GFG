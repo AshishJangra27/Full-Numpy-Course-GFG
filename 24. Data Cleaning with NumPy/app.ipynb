{
  "nbformat": 4,
  "nbformat_minor": 0,
  "metadata": {
    "colab": {
      "provenance": []
    },
    "kernelspec": {
      "name": "python3",
      "display_name": "Python 3"
    },
    "language_info": {
      "name": "python"
    }
  },
  "cells": [
    {
      "cell_type": "code",
      "execution_count": 22,
      "metadata": {
        "id": "FjCmo8GW8Ldw"
      },
      "outputs": [],
      "source": [
        "import numpy as np"
      ]
    },
    {
      "cell_type": "markdown",
      "source": [
        "### 1. Masking with Boolean Arrays"
      ],
      "metadata": {
        "id": "EKxMq57_yz2l"
      }
    },
    {
      "cell_type": "code",
      "source": [
        "arr = np.array([1,2,np.nan,4,5,np.nan])\n",
        "\n",
        "print(np.isnan(arr))\n",
        "print(arr[np.isnan(arr)])\n",
        "print(arr[~np.isnan(arr)])"
      ],
      "metadata": {
        "colab": {
          "base_uri": "https://localhost:8080/"
        },
        "id": "_HfFkUnLyzd1",
        "outputId": "a1e62c09-c6d1-421b-f043-175c3b33654f"
      },
      "execution_count": 27,
      "outputs": [
        {
          "output_type": "stream",
          "name": "stdout",
          "text": [
            "[False False  True False False  True]\n",
            "[nan nan]\n",
            "[1. 2. 4. 5.]\n"
          ]
        }
      ]
    },
    {
      "cell_type": "markdown",
      "source": [
        "### 2. Replacing outliers with s specific value"
      ],
      "metadata": {
        "id": "3WHlzV6Jzcxt"
      }
    },
    {
      "cell_type": "code",
      "source": [
        "arr = np.array([1,2,3,4,5,6,7,8,9])\n",
        "\n",
        "arr[arr > 7] = 7\n",
        "arr[arr < 3] = 3\n",
        "print(arr)"
      ],
      "metadata": {
        "colab": {
          "base_uri": "https://localhost:8080/"
        },
        "id": "RXSpSIWtzBnb",
        "outputId": "a39590f3-ecba-407d-fda8-dcc8cd0519ca"
      },
      "execution_count": 29,
      "outputs": [
        {
          "output_type": "stream",
          "name": "stdout",
          "text": [
            "[3 3 3 4 5 6 7 7 7]\n"
          ]
        }
      ]
    },
    {
      "cell_type": "markdown",
      "source": [
        "### 3. Removing the Duplicates"
      ],
      "metadata": {
        "id": "a7YCru-q0CUi"
      }
    },
    {
      "cell_type": "code",
      "source": [
        "arr = np.array([1,2,2,2,3,3,4,5,6,7,8,9])\n",
        "print(arr)\n",
        "\n",
        "unique_arr = np.unique(arr)\n",
        "print(unique_arr)\n",
        "\n",
        "print(set(arr))"
      ],
      "metadata": {
        "colab": {
          "base_uri": "https://localhost:8080/"
        },
        "id": "r2TBFewGzxLw",
        "outputId": "e62c9259-e629-47b2-c966-fa3cbff3ad7e"
      },
      "execution_count": 31,
      "outputs": [
        {
          "output_type": "stream",
          "name": "stdout",
          "text": [
            "[1 2 2 2 3 3 4 5 6 7 8 9]\n",
            "[1 2 3 4 5 6 7 8 9]\n",
            "{1, 2, 3, 4, 5, 6, 7, 8, 9}\n"
          ]
        }
      ]
    },
    {
      "cell_type": "markdown",
      "source": [
        "### 4. Categorical data to One Hot Encoding"
      ],
      "metadata": {
        "id": "r_4rFTzj0Zo-"
      }
    },
    {
      "cell_type": "code",
      "source": [
        "categorical_arr = np.array(['A','B','C','D','E'])\n",
        "\n",
        "numrical_arr = np.array([0,1,2,3,4])\n",
        "\n",
        "print(categorical_arr)\n",
        "\n",
        "one_hot_arr = np.eye(5)[numrical_arr]\n",
        "print(one_hot_arr)"
      ],
      "metadata": {
        "colab": {
          "base_uri": "https://localhost:8080/"
        },
        "id": "IdU1uXdx0O5X",
        "outputId": "5a49613b-837f-4574-d34f-c3f891aa6f19"
      },
      "execution_count": 35,
      "outputs": [
        {
          "output_type": "stream",
          "name": "stdout",
          "text": [
            "['A' 'B' 'C' 'D' 'E']\n",
            "[[1. 0. 0. 0. 0.]\n",
            " [0. 1. 0. 0. 0.]\n",
            " [0. 0. 1. 0. 0.]\n",
            " [0. 0. 0. 1. 0.]\n",
            " [0. 0. 0. 0. 1.]]\n"
          ]
        }
      ]
    },
    {
      "cell_type": "markdown",
      "source": [
        "### 5. Data Normalization"
      ],
      "metadata": {
        "id": "oJ3pt6si19Im"
      }
    },
    {
      "cell_type": "code",
      "source": [
        " arr = np.array([10000,200000,300000,4000000,5000000])\n",
        "\n",
        " normalized_arr = (arr - arr.min()) / (arr.max() - arr.min())\n",
        " print(normalized_arr)"
      ],
      "metadata": {
        "colab": {
          "base_uri": "https://localhost:8080/"
        },
        "id": "HbKvw31s2kNR",
        "outputId": "84181ad4-eb2e-4913-94c9-742a8ed22e23"
      },
      "execution_count": 43,
      "outputs": [
        {
          "output_type": "stream",
          "name": "stdout",
          "text": [
            "[0.         0.03807615 0.05811623 0.7995992  1.        ]\n"
          ]
        }
      ]
    },
    {
      "cell_type": "code",
      "source": [],
      "metadata": {
        "id": "6kSbROsO4ALP"
      },
      "execution_count": null,
      "outputs": []
    }
  ]
}