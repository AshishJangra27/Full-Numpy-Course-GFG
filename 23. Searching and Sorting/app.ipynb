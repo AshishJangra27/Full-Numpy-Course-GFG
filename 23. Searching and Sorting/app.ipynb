{
  "nbformat": 4,
  "nbformat_minor": 0,
  "metadata": {
    "colab": {
      "provenance": []
    },
    "kernelspec": {
      "name": "python3",
      "display_name": "Python 3"
    },
    "language_info": {
      "name": "python"
    }
  },
  "cells": [
    {
      "cell_type": "code",
      "execution_count": 1,
      "metadata": {
        "id": "FjCmo8GW8Ldw"
      },
      "outputs": [],
      "source": [
        "import numpy as np"
      ]
    },
    {
      "cell_type": "markdown",
      "source": [
        "### 1. Searching"
      ],
      "metadata": {
        "id": "Hhr0GJixvaTS"
      }
    },
    {
      "cell_type": "code",
      "source": [
        "arr = np.array([1,3,4,6,5,7,12,13])\n",
        "\n",
        "# Linear Search\n",
        "index = np.where(arr == 3)[0]\n",
        "print(index)\n",
        "\n",
        "# Binary Search\n",
        "index = np.searchsorted(arr, 3)\n",
        "print(index)\n",
        "\n",
        "# Searching Closest Value\n",
        "index = np.argmin(abs(arr - 11))\n",
        "print(index)"
      ],
      "metadata": {
        "colab": {
          "base_uri": "https://localhost:8080/"
        },
        "id": "ZwcusIQqtFem",
        "outputId": "bb50ee17-c37e-41fc-f730-a41600f15ebc"
      },
      "execution_count": 17,
      "outputs": [
        {
          "output_type": "stream",
          "name": "stdout",
          "text": [
            "[1]\n",
            "1\n",
            "6\n"
          ]
        }
      ]
    },
    {
      "cell_type": "markdown",
      "source": [
        "### 2. Sorting"
      ],
      "metadata": {
        "id": "Bp_lBXzrxOyq"
      }
    },
    {
      "cell_type": "code",
      "source": [
        "arr = np.array([5,7,9,0,3,1,6,2,4,8])\n",
        "\n",
        "# Quick Sort\n",
        "sorted_arr = np.sort(arr)\n",
        "print(sorted_arr)\n",
        "\n",
        "# Quick Sort\n",
        "sorted_arr = np.sort(arr, kind = 'quicksort')\n",
        "print(sorted_arr)\n",
        "\n",
        "# Heap Sort\n",
        "sorted_arr = np.sort(arr, kind = 'heapsort')\n",
        "print(sorted_arr)\n",
        "\n",
        "# Merge Sort\n",
        "sorted_arr = np.sort(arr, kind = 'mergesort')\n",
        "print(sorted_arr)"
      ],
      "metadata": {
        "colab": {
          "base_uri": "https://localhost:8080/"
        },
        "id": "MMuMRXLuwC9j",
        "outputId": "798598cf-da6c-457f-d241-ba673426e849"
      },
      "execution_count": 21,
      "outputs": [
        {
          "output_type": "stream",
          "name": "stdout",
          "text": [
            "[0 1 2 3 4 5 6 7 8 9]\n",
            "[0 1 2 3 4 5 6 7 8 9]\n",
            "[0 1 2 3 4 5 6 7 8 9]\n",
            "[0 1 2 3 4 5 6 7 8 9]\n"
          ]
        }
      ]
    }
  ]
}