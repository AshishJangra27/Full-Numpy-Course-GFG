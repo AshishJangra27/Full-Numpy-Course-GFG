{
  "nbformat": 4,
  "nbformat_minor": 0,
  "metadata": {
    "colab": {
      "provenance": []
    },
    "kernelspec": {
      "name": "python3",
      "display_name": "Python 3"
    },
    "language_info": {
      "name": "python"
    }
  },
  "cells": [
    {
      "cell_type": "code",
      "source": [
        "import numpy as np"
      ],
      "metadata": {
        "id": "-01T4AyywKFt"
      },
      "execution_count": 2,
      "outputs": []
    },
    {
      "cell_type": "markdown",
      "source": [
        "### 1. Converting Data Structures to Numpy Array"
      ],
      "metadata": {
        "id": "kD8QUMcDwCUV"
      }
    },
    {
      "cell_type": "markdown",
      "source": [
        "##### 1.1) Converting a tuple to an array"
      ],
      "metadata": {
        "id": "ln7x-V7M3JFi"
      }
    },
    {
      "cell_type": "code",
      "execution_count": 7,
      "metadata": {
        "colab": {
          "base_uri": "https://localhost:8080/"
        },
        "id": "NmYWH4pMvKtV",
        "outputId": "35eb9ed3-2ba7-4d2d-e434-abf1c8b6da7f"
      },
      "outputs": [
        {
          "output_type": "stream",
          "name": "stdout",
          "text": [
            "(1, 2, 3)\n",
            "<class 'tuple'>\n",
            "----------\n",
            "[1 2 3]\n",
            "<class 'numpy.ndarray'>\n"
          ]
        }
      ],
      "source": [
        "tpl = (1,2,3)\n",
        "print(tpl)\n",
        "print(type(tpl))\n",
        "print('-'*10)\n",
        "\n",
        "arr = np.array(tpl)\n",
        "print(arr)\n",
        "print(type(arr))"
      ]
    },
    {
      "cell_type": "markdown",
      "source": [
        "##### 1.2) Converting a list to an array"
      ],
      "metadata": {
        "id": "h7nMLSud3K5L"
      }
    },
    {
      "cell_type": "code",
      "source": [
        "lst = [1,2,3]\n",
        "print(lst)\n",
        "print(type(lst))\n",
        "print('-'*10)\n",
        "\n",
        "arr = np.array(lst)\n",
        "print(arr)\n",
        "print(type(arr))"
      ],
      "metadata": {
        "colab": {
          "base_uri": "https://localhost:8080/"
        },
        "id": "7MT7kmCV3OSl",
        "outputId": "8690eba2-df33-45c0-c775-2247efb48e77"
      },
      "execution_count": 6,
      "outputs": [
        {
          "output_type": "stream",
          "name": "stdout",
          "text": [
            "[1, 2, 3]\n",
            "<class 'list'>\n",
            "----------\n",
            "[1 2 3]\n",
            "<class 'numpy.ndarray'>\n"
          ]
        }
      ]
    },
    {
      "cell_type": "markdown",
      "source": [
        "##### 1.3) Converting a dictionary to an array"
      ],
      "metadata": {
        "id": "81B8vdot3OqS"
      }
    },
    {
      "cell_type": "code",
      "source": [
        "dct = {1 : 'apple', 2 : 'banana', 3 : 'cherry'}\n",
        "print(dct)\n",
        "print(type(dct))\n",
        "print('-'*10)\n",
        "\n",
        "arr = np.array(dct)\n",
        "print(arr)\n",
        "print(type(arr))\n",
        "print('-'*10)\n",
        "\n",
        "arr_k = np.array(list(dct.keys()))\n",
        "arr_v = np.array(list(dct.values()))\n",
        "print(arr_k)\n",
        "print(type(arr_k))\n",
        "print(arr_v)\n",
        "print(type(arr_v))"
      ],
      "metadata": {
        "colab": {
          "base_uri": "https://localhost:8080/"
        },
        "id": "tS5vJ-lA3Vd-",
        "outputId": "0936b2e8-6940-43ed-c251-eed8ec79b4ed"
      },
      "execution_count": 15,
      "outputs": [
        {
          "output_type": "stream",
          "name": "stdout",
          "text": [
            "{1: 'apple', 2: 'banana', 3: 'cherry'}\n",
            "<class 'dict'>\n",
            "----------\n",
            "{1: 'apple', 2: 'banana', 3: 'cherry'}\n",
            "<class 'numpy.ndarray'>\n",
            "----------\n",
            "[1 2 3]\n",
            "<class 'numpy.ndarray'>\n",
            "['apple' 'banana' 'cherry']\n",
            "<class 'numpy.ndarray'>\n"
          ]
        }
      ]
    },
    {
      "cell_type": "markdown",
      "source": [
        "##### 1.4) Converting a set to an array"
      ],
      "metadata": {
        "id": "WX6oTGET3R4B"
      }
    },
    {
      "cell_type": "code",
      "source": [
        "set_ = {1,2,3}\n",
        "print(set_)\n",
        "print(type(set_))\n",
        "print('-'*10)\n",
        "\n",
        "arr = np.array(list(set_))\n",
        "print(arr)\n",
        "print(type(arr))"
      ],
      "metadata": {
        "colab": {
          "base_uri": "https://localhost:8080/"
        },
        "id": "c0zwXsyY3Ru6",
        "outputId": "7cf4dd1f-03fc-4b72-cb12-d6bda1e8818f"
      },
      "execution_count": 18,
      "outputs": [
        {
          "output_type": "stream",
          "name": "stdout",
          "text": [
            "{1, 2, 3}\n",
            "<class 'set'>\n",
            "----------\n",
            "[1 2 3]\n",
            "<class 'numpy.ndarray'>\n"
          ]
        }
      ]
    },
    {
      "cell_type": "markdown",
      "source": [
        "##### 1.5) Converting String to Array"
      ],
      "metadata": {
        "id": "pMjgBblD3WiO"
      }
    },
    {
      "cell_type": "code",
      "source": [
        "arr = np.array('hello world')\n",
        "print(arr)\n",
        "print(type(arr))"
      ],
      "metadata": {
        "colab": {
          "base_uri": "https://localhost:8080/"
        },
        "id": "lVFg4DEV3Z4C",
        "outputId": "9a271afb-d91a-478a-8bea-56a5182e2f80"
      },
      "execution_count": 21,
      "outputs": [
        {
          "output_type": "stream",
          "name": "stdout",
          "text": [
            "hello world\n",
            "<class 'numpy.ndarray'>\n"
          ]
        }
      ]
    },
    {
      "cell_type": "markdown",
      "source": [
        "### 2. Convering the Datatype of Numpy Array"
      ],
      "metadata": {
        "id": "f7-KFa8TxkY7"
      }
    },
    {
      "cell_type": "markdown",
      "source": [
        "##### 2.1) Create an array of integers"
      ],
      "metadata": {
        "id": "L5msV49v3fWS"
      }
    },
    {
      "cell_type": "code",
      "source": [
        "arr = np.array([1,2,3,4,5])\n",
        "print(arr)\n",
        "arr_ = arr.astype('float')\n",
        "print(arr_)\n",
        "\n",
        "arr_ = arr.astype('str')\n",
        "print(arr_)\n",
        "\n",
        "arr_ = arr.astype('bool')\n",
        "print(arr_)"
      ],
      "metadata": {
        "colab": {
          "base_uri": "https://localhost:8080/"
        },
        "id": "mdT1zg143ioK",
        "outputId": "dddce62e-04a0-4bd1-9a9f-353fef596358"
      },
      "execution_count": 27,
      "outputs": [
        {
          "output_type": "stream",
          "name": "stdout",
          "text": [
            "[1 2 3 4 5]\n",
            "[1. 2. 3. 4. 5.]\n",
            "['1' '2' '3' '4' '5']\n",
            "[ True  True  True  True  True]\n"
          ]
        }
      ]
    },
    {
      "cell_type": "markdown",
      "source": [
        "##### 2.2) Create an array of floats"
      ],
      "metadata": {
        "id": "0dBFo0Kz3ip-"
      }
    },
    {
      "cell_type": "code",
      "source": [
        "arr = np.array([1.,2.,3.,4.,5.])\n",
        "print(arr)\n",
        "\n",
        "arr_ = arr.astype('int')\n",
        "print(arr_)\n",
        "\n",
        "arr_ = arr.astype('str')\n",
        "print(arr_)\n",
        "\n",
        "arr_ = arr.astype('bool')\n",
        "print(arr_)"
      ],
      "metadata": {
        "colab": {
          "base_uri": "https://localhost:8080/"
        },
        "id": "Wn_bZupq3qxR",
        "outputId": "37d29c3f-9400-401c-9bf0-bcca0d1088aa"
      },
      "execution_count": 31,
      "outputs": [
        {
          "output_type": "stream",
          "name": "stdout",
          "text": [
            "[1. 2. 3. 4. 5.]\n",
            "[1 2 3 4 5]\n",
            "['1.0' '2.0' '3.0' '4.0' '5.0']\n",
            "[ True  True  True  True  True]\n"
          ]
        }
      ]
    },
    {
      "cell_type": "markdown",
      "source": [
        "##### 2.3) Create an array of strings"
      ],
      "metadata": {
        "id": "KDxqwGx43led"
      }
    },
    {
      "cell_type": "code",
      "source": [
        "arr = np.array(['1','2','3','4','5'])\n",
        "print(arr)\n",
        "\n",
        "arr_ = arr.astype('int')\n",
        "print(arr_)\n",
        "\n",
        "arr_ = arr.astype('float')\n",
        "print(arr_)\n",
        "\n",
        "arr_ = arr.astype('bool')\n",
        "print(arr_)"
      ],
      "metadata": {
        "colab": {
          "base_uri": "https://localhost:8080/"
        },
        "id": "vImRTi-P3sIA",
        "outputId": "3b48f04f-b65e-44f2-ceb6-a71f60d53ab4"
      },
      "execution_count": 44,
      "outputs": [
        {
          "output_type": "stream",
          "name": "stdout",
          "text": [
            "['1' '2' '3' '4' '5']\n",
            "[1 2 3 4 5]\n",
            "[1. 2. 3. 4. 5.]\n",
            "[ True  True  True  True  True]\n"
          ]
        }
      ]
    },
    {
      "cell_type": "markdown",
      "source": [
        "##### 2.4) Create an array of boolean"
      ],
      "metadata": {
        "id": "jkqBRocx3odn"
      }
    },
    {
      "cell_type": "code",
      "source": [
        "arr = np.array([True, False, False, False, True])\n",
        "print(arr)\n",
        "\n",
        "arr_ = arr.astype('int')\n",
        "print(arr_)\n",
        "\n",
        "arr_ = arr.astype('float')\n",
        "print(arr_)\n",
        "\n",
        "arr_ = arr.astype('str')\n",
        "print(arr_)"
      ],
      "metadata": {
        "colab": {
          "base_uri": "https://localhost:8080/"
        },
        "id": "1kU0IByowpOv",
        "outputId": "46b14e93-e5f7-4ed6-de1a-d2f3d333ddf2"
      },
      "execution_count": 47,
      "outputs": [
        {
          "output_type": "stream",
          "name": "stdout",
          "text": [
            "[ True False False False  True]\n",
            "[1 0 0 0 1]\n",
            "[1. 0. 0. 0. 1.]\n",
            "['True' 'False' 'False' 'False' 'True']\n"
          ]
        }
      ]
    }
  ]
}