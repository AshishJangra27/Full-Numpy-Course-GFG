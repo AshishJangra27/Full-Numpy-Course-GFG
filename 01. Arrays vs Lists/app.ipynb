{
  "nbformat": 4,
  "nbformat_minor": 0,
  "metadata": {
    "colab": {
      "provenance": []
    },
    "kernelspec": {
      "name": "python3",
      "display_name": "Python 3"
    },
    "language_info": {
      "name": "python"
    }
  },
  "cells": [
    {
      "cell_type": "code",
      "source": [
        "import numpy as np"
      ],
      "metadata": {
        "id": "-01T4AyywKFt"
      },
      "execution_count": 3,
      "outputs": []
    },
    {
      "cell_type": "markdown",
      "source": [
        "### 1. Arrays vs Lists Comparison"
      ],
      "metadata": {
        "id": "kD8QUMcDwCUV"
      }
    },
    {
      "cell_type": "code",
      "execution_count": null,
      "metadata": {
        "id": "NmYWH4pMvKtV"
      },
      "outputs": [],
      "source": [
        "lst = [1,3,2]\n",
        "print(lst)\n",
        "print(type(lst))\n",
        "print('---')\n",
        "\n",
        "arr = np.array([1,2,3])\n",
        "print(arr)\n",
        "print(type(arr))\n",
        "print('---')\n",
        "\n",
        "print(arr == lst)\n",
        "print(arr.tolist() == lst)\n",
        "\n",
        "print(sorted(arr) == sorted(lst))"
      ]
    },
    {
      "cell_type": "markdown",
      "source": [
        "### 2. Adding elements in an Array vs List"
      ],
      "metadata": {
        "id": "f7-KFa8TxkY7"
      }
    },
    {
      "cell_type": "code",
      "source": [
        "lst = [1,3,2]\n",
        "arr = np.array([1,2,3])\n",
        "\n",
        "print(lst)\n",
        "lst.append(4)\n",
        "print(lst)\n",
        "print('---')\n",
        "\n",
        "print(arr)\n",
        "arr = np.append(arr, 4)\n",
        "print(arr)"
      ],
      "metadata": {
        "colab": {
          "base_uri": "https://localhost:8080/"
        },
        "id": "1kU0IByowpOv",
        "outputId": "16da2ced-3238-4e8f-b06e-c78b78906852"
      },
      "execution_count": 18,
      "outputs": [
        {
          "output_type": "stream",
          "name": "stdout",
          "text": [
            "[1, 3, 2]\n",
            "[1, 3, 2, 4]\n",
            "---\n",
            "[1 2 3]\n",
            "[1 2 3 4]\n"
          ]
        }
      ]
    },
    {
      "cell_type": "markdown",
      "source": [
        "### 3. Removing elements in an Array vs List"
      ],
      "metadata": {
        "id": "SYwsKU_hyNwS"
      }
    },
    {
      "cell_type": "code",
      "source": [
        "lst = [1,3,2]\n",
        "arr = np.array([1,2,3])\n",
        "\n",
        "print(lst)\n",
        "del lst[-2]\n",
        "print(lst)\n",
        "print('---')\n",
        "\n",
        "print(arr)\n",
        "arr = np.delete(arr,-2)\n",
        "print(arr)"
      ],
      "metadata": {
        "colab": {
          "base_uri": "https://localhost:8080/"
        },
        "id": "guw04PJTxLyG",
        "outputId": "a4e858cf-d50f-4e69-8562-2d96bff02b1a"
      },
      "execution_count": 25,
      "outputs": [
        {
          "output_type": "stream",
          "name": "stdout",
          "text": [
            "[1, 3, 2]\n",
            "[1, 2]\n",
            "---\n",
            "[1 2 3]\n",
            "[1 3]\n"
          ]
        }
      ]
    },
    {
      "cell_type": "markdown",
      "source": [
        "### 4. Updating elements in an Arrays vs List"
      ],
      "metadata": {
        "id": "Ak11teW3zABO"
      }
    },
    {
      "cell_type": "code",
      "source": [
        "lst = [1,3,2]\n",
        "print(lst)\n",
        "lst[-2] = 2\n",
        "lst[-1] = 3\n",
        "print(lst)\n",
        "print('---')\n",
        "\n",
        "arr = np.array([1,3,2])\n",
        "print(arr)\n",
        "arr[-2] = 2\n",
        "arr[-1] = 3\n",
        "print(arr)"
      ],
      "metadata": {
        "colab": {
          "base_uri": "https://localhost:8080/"
        },
        "id": "RELGkqf9yUDU",
        "outputId": "d3e830cf-7bfa-4f2b-e119-2223482b7d06"
      },
      "execution_count": 31,
      "outputs": [
        {
          "output_type": "stream",
          "name": "stdout",
          "text": [
            "[1, 3, 2]\n",
            "[1, 2, 3]\n",
            "---\n",
            "[1 3 2]\n",
            "[1 2 3]\n"
          ]
        }
      ]
    },
    {
      "cell_type": "markdown",
      "source": [
        "### 5. Array vs List Comparison"
      ],
      "metadata": {
        "id": "BgsFZcVqztx2"
      }
    },
    {
      "cell_type": "code",
      "source": [
        "import time\n",
        "\n",
        "# Creating the data\n",
        "my_list = list(range(10000000))\n",
        "my_array = np.arange(10000000)\n",
        "\n",
        "# Search time for list\n",
        "start_time = time.time()\n",
        "for _ in range(100):\n",
        "  if 5000000 in my_list:\n",
        "    pass\n",
        "end_time = time.time()\n",
        "print('List : ', end_time - start_time)\n",
        "\n",
        "\n",
        "# Search time for Array\n",
        "start_time = time.time()\n",
        "for _ in range(100):\n",
        "  if 5000000 in my_array:\n",
        "    pass\n",
        "end_time = time.time()\n",
        "print('Array : ', end_time - start_time)"
      ],
      "metadata": {
        "colab": {
          "base_uri": "https://localhost:8080/"
        },
        "id": "KpOIJ2rvzKQd",
        "outputId": "1b8ea908-06e3-4ead-95bf-6eb6e6298c6a"
      },
      "execution_count": 45,
      "outputs": [
        {
          "output_type": "stream",
          "name": "stdout",
          "text": [
            "List :  5.364999294281006\n",
            "Array :  0.9616692066192627\n"
          ]
        }
      ]
    }
  ]
}