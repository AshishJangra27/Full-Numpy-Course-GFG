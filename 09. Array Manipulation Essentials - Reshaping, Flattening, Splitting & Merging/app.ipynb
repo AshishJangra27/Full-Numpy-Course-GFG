{
  "nbformat": 4,
  "nbformat_minor": 0,
  "metadata": {
    "colab": {
      "provenance": []
    },
    "kernelspec": {
      "name": "python3",
      "display_name": "Python 3"
    },
    "language_info": {
      "name": "python"
    }
  },
  "cells": [
    {
      "cell_type": "code",
      "execution_count": 1,
      "metadata": {
        "id": "FjCmo8GW8Ldw"
      },
      "outputs": [],
      "source": [
        "import numpy as np"
      ]
    },
    {
      "cell_type": "markdown",
      "source": [
        "### 1. Flattening"
      ],
      "metadata": {
        "id": "OKhLuAuGUgkm"
      }
    },
    {
      "cell_type": "code",
      "source": [
        "arr = np.array([[1,2,3],[4,5,6],[7,8,9]])\n",
        "print(arr)\n",
        "\n",
        "flat_arr = arr.flatten()\n",
        "print(flat_arr)"
      ],
      "metadata": {
        "colab": {
          "base_uri": "https://localhost:8080/"
        },
        "id": "q52jtkeiUgFO",
        "outputId": "8a31a354-f720-4018-ac6a-9d8bb5bc7465"
      },
      "execution_count": 104,
      "outputs": [
        {
          "output_type": "stream",
          "name": "stdout",
          "text": [
            "[[1 2 3]\n",
            " [4 5 6]\n",
            " [7 8 9]]\n",
            "[1 2 3 4 5 6 7 8 9]\n"
          ]
        }
      ]
    },
    {
      "cell_type": "markdown",
      "source": [
        "### 2. Reshaping"
      ],
      "metadata": {
        "id": "SWPJ4N1HVi9_"
      }
    },
    {
      "cell_type": "code",
      "source": [
        "arr = np.array([[1,2,3],[4,5,6]])\n",
        "print(arr)\n",
        "\n",
        "print(arr.shape)\n",
        "print('-'*10)\n",
        "\n",
        "reshaped_arr = np.reshape(arr, (3,2))\n",
        "print(reshaped_arr)\n",
        "\n",
        "print(reshaped_arr.shape)"
      ],
      "metadata": {
        "colab": {
          "base_uri": "https://localhost:8080/"
        },
        "id": "X7AyHh63VESS",
        "outputId": "6880f172-6092-4cc0-9a45-cacfa20707aa"
      },
      "execution_count": 114,
      "outputs": [
        {
          "output_type": "stream",
          "name": "stdout",
          "text": [
            "[[1 2 3]\n",
            " [4 5 6]]\n",
            "(2, 3)\n",
            "----------\n",
            "[[1 2]\n",
            " [3 4]\n",
            " [5 6]]\n",
            "(3, 2)\n"
          ]
        }
      ]
    },
    {
      "cell_type": "markdown",
      "source": [
        "### 3. Splitting"
      ],
      "metadata": {
        "id": "hN5UVgNwWdVn"
      }
    },
    {
      "cell_type": "markdown",
      "source": [
        "- vsplit"
      ],
      "metadata": {
        "id": "y0TzkamzWfoh"
      }
    },
    {
      "cell_type": "code",
      "source": [
        "arr = np.array([[1,2,3,2],[4,5,6,2],[7,8,9,2],[7,8,9,2]])\n",
        "print(arr)\n",
        "print('-'*10)\n",
        "\n",
        "for _ in np.vsplit(arr, 4):\n",
        "  print(_)"
      ],
      "metadata": {
        "colab": {
          "base_uri": "https://localhost:8080/"
        },
        "id": "MWzb1GlkVpSp",
        "outputId": "6992f863-302c-440e-ee23-b961910338e9"
      },
      "execution_count": 122,
      "outputs": [
        {
          "output_type": "stream",
          "name": "stdout",
          "text": [
            "[[1 2 3 2]\n",
            " [4 5 6 2]\n",
            " [7 8 9 2]\n",
            " [7 8 9 2]]\n",
            "----------\n",
            "[[1 2 3 2]]\n",
            "[[4 5 6 2]]\n",
            "[[7 8 9 2]]\n",
            "[[7 8 9 2]]\n"
          ]
        }
      ]
    },
    {
      "cell_type": "markdown",
      "source": [
        "- hsplit"
      ],
      "metadata": {
        "id": "M_QtN8s3XNI0"
      }
    },
    {
      "cell_type": "code",
      "source": [
        "arr = np.array([[1,2,3,2],[4,5,6,2],[7,8,9,2],[7,8,9,2]])\n",
        "print(arr)\n",
        "print('-'*10)\n",
        "\n",
        "print(np.hsplit(arr,4))\n",
        "\n",
        "for _ in np.hsplit(arr, 4):\n",
        "  print(_)"
      ],
      "metadata": {
        "colab": {
          "base_uri": "https://localhost:8080/"
        },
        "id": "P-vejbeZWoe2",
        "outputId": "29841f3b-0aeb-4e1f-9653-5085a3479d6d"
      },
      "execution_count": 133,
      "outputs": [
        {
          "output_type": "stream",
          "name": "stdout",
          "text": [
            "[[1 2 3 2]\n",
            " [4 5 6 2]\n",
            " [7 8 9 2]\n",
            " [7 8 9 2]]\n",
            "----------\n",
            "[array([[1],\n",
            "       [4],\n",
            "       [7],\n",
            "       [7]]), array([[2],\n",
            "       [5],\n",
            "       [8],\n",
            "       [8]]), array([[3],\n",
            "       [6],\n",
            "       [9],\n",
            "       [9]]), array([[2],\n",
            "       [2],\n",
            "       [2],\n",
            "       [2]])]\n",
            "[[1]\n",
            " [4]\n",
            " [7]\n",
            " [7]]\n",
            "[[2]\n",
            " [5]\n",
            " [8]\n",
            " [8]]\n",
            "[[3]\n",
            " [6]\n",
            " [9]\n",
            " [9]]\n",
            "[[2]\n",
            " [2]\n",
            " [2]\n",
            " [2]]\n"
          ]
        }
      ]
    },
    {
      "cell_type": "markdown",
      "source": [
        "- split"
      ],
      "metadata": {
        "id": "GXu1lJFlXqA9"
      }
    },
    {
      "cell_type": "code",
      "source": [
        "arr = np.array([[1,2,3,2],[4,5,6,2],[7,8,9,2],[7,8,9,2]])\n",
        "print(arr)\n",
        "\n",
        "print('-'*10)\n",
        "\n",
        "split_arr = np.split(arr, 2, axis = 1)\n",
        "print(split_arr)\n"
      ],
      "metadata": {
        "colab": {
          "base_uri": "https://localhost:8080/"
        },
        "id": "vVF7a5m1XQoF",
        "outputId": "fdad3b35-c300-4c56-e7b3-dbc5084c0d57"
      },
      "execution_count": 132,
      "outputs": [
        {
          "output_type": "stream",
          "name": "stdout",
          "text": [
            "[[1 2 3 2]\n",
            " [4 5 6 2]\n",
            " [7 8 9 2]\n",
            " [7 8 9 2]]\n",
            "----------\n",
            "[array([[1, 2],\n",
            "       [4, 5],\n",
            "       [7, 8],\n",
            "       [7, 8]]), array([[3, 2],\n",
            "       [6, 2],\n",
            "       [9, 2],\n",
            "       [9, 2]])]\n"
          ]
        }
      ]
    },
    {
      "cell_type": "markdown",
      "source": [
        "### 4. Merging"
      ],
      "metadata": {
        "id": "g7HVs1HvYJqL"
      }
    },
    {
      "cell_type": "markdown",
      "source": [
        "- concatenate"
      ],
      "metadata": {
        "id": "i8O5w6DiYZks"
      }
    },
    {
      "cell_type": "code",
      "source": [
        "arr1 = np.array([1,2,3,4])\n",
        "arr2 = np.array([1,5,2,9])\n",
        "arr3 = np.array([9,2,3,5])\n",
        "arr4 = np.array([8,2,9,4])\n",
        "\n",
        "concat_arr = np.concatenate((arr1,arr2,arr3, arr4))\n",
        "\n",
        "print(concat_arr)"
      ],
      "metadata": {
        "colab": {
          "base_uri": "https://localhost:8080/"
        },
        "id": "9hjzrKvkXvEs",
        "outputId": "8cb854b6-a565-41ec-ec44-e25984f7392b"
      },
      "execution_count": 136,
      "outputs": [
        {
          "output_type": "stream",
          "name": "stdout",
          "text": [
            "[1 2 3 4 1 5 2 9 9 2 3 5 8 2 9 4]\n"
          ]
        }
      ]
    },
    {
      "cell_type": "markdown",
      "source": [
        "- hstack"
      ],
      "metadata": {
        "id": "7d7cPldsYrpu"
      }
    },
    {
      "cell_type": "code",
      "source": [
        "arr1 = np.array([1,2,3,4])\n",
        "arr2 = np.array([1,5,2,9])\n",
        "arr3 = np.array([9,2,3,5])\n",
        "arr4 = np.array([8,2,9,4])\n",
        "\n",
        "concat_arr = np.hstack((arr1,arr2,arr3,arr4))\n",
        "\n",
        "print(concat_arr)"
      ],
      "metadata": {
        "colab": {
          "base_uri": "https://localhost:8080/"
        },
        "id": "lgk0f8LFYjve",
        "outputId": "609ea707-57e5-4277-f922-b6a0dba9a723"
      },
      "execution_count": 137,
      "outputs": [
        {
          "output_type": "stream",
          "name": "stdout",
          "text": [
            "[1 2 3 4 1 5 2 9 9 2 3 5 8 2 9 4]\n"
          ]
        }
      ]
    },
    {
      "cell_type": "markdown",
      "source": [
        "- vstack"
      ],
      "metadata": {
        "id": "7ZC4UjlZY2sM"
      }
    },
    {
      "cell_type": "code",
      "source": [
        "arr1 = np.array([1,2,3,4])\n",
        "arr2 = np.array([1,5,2,9])\n",
        "arr3 = np.array([9,2,3,5])\n",
        "arr4 = np.array([8,2,9,4])\n",
        "\n",
        "concat_arr = np.vstack((arr1,arr2,arr3,arr4))\n",
        "\n",
        "print(concat_arr)"
      ],
      "metadata": {
        "colab": {
          "base_uri": "https://localhost:8080/"
        },
        "id": "VMri9dLvYzce",
        "outputId": "23a37edf-d973-4cf5-afaa-5c64044e3f57"
      },
      "execution_count": 138,
      "outputs": [
        {
          "output_type": "stream",
          "name": "stdout",
          "text": [
            "[[1 2 3 4]\n",
            " [1 5 2 9]\n",
            " [9 2 3 5]\n",
            " [8 2 9 4]]\n"
          ]
        }
      ]
    },
    {
      "cell_type": "markdown",
      "source": [
        "- stack"
      ],
      "metadata": {
        "id": "6xP3uz6CY_Fc"
      }
    },
    {
      "cell_type": "code",
      "source": [
        "arr1 = np.array([1,2,3,4])\n",
        "arr2 = np.array([1,5,2,9])\n",
        "arr3 = np.array([9,2,3,5])\n",
        "arr4 = np.array([8,2,9,4])\n",
        "\n",
        "concat_arr = np.stack((arr1,arr2,arr3,arr4), axis = 0)\n",
        "\n",
        "print(concat_arr)"
      ],
      "metadata": {
        "colab": {
          "base_uri": "https://localhost:8080/"
        },
        "id": "C1nIciREY4Z1",
        "outputId": "b293d46e-373e-411b-e403-7d8574ce2efd"
      },
      "execution_count": 144,
      "outputs": [
        {
          "output_type": "stream",
          "name": "stdout",
          "text": [
            "[[1 2 3 4]\n",
            " [1 5 2 9]\n",
            " [9 2 3 5]\n",
            " [8 2 9 4]]\n"
          ]
        }
      ]
    },
    {
      "cell_type": "code",
      "source": [
        "arr1 = np.array([1,2,3,4])\n",
        "arr2 = np.array([1,5,2,9])\n",
        "arr3 = np.array([9,2,3,5])\n",
        "arr4 = np.array([8,2,9,4])\n",
        "\n",
        "concat_arr = np.stack((arr1,arr2,arr3,arr4), axis = 1)\n",
        "\n",
        "print(concat_arr)"
      ],
      "metadata": {
        "colab": {
          "base_uri": "https://localhost:8080/"
        },
        "id": "U6sDaeGDZDa4",
        "outputId": "7c243e5e-4a2b-4551-80a5-88ff1837c4ef"
      },
      "execution_count": 145,
      "outputs": [
        {
          "output_type": "stream",
          "name": "stdout",
          "text": [
            "[[1 1 9 8]\n",
            " [2 5 2 2]\n",
            " [3 2 3 9]\n",
            " [4 9 5 4]]\n"
          ]
        }
      ]
    }
  ]
}