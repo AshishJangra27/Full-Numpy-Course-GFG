{
  "nbformat": 4,
  "nbformat_minor": 0,
  "metadata": {
    "colab": {
      "provenance": []
    },
    "kernelspec": {
      "name": "python3",
      "display_name": "Python 3"
    },
    "language_info": {
      "name": "python"
    }
  },
  "cells": [
    {
      "cell_type": "code",
      "execution_count": 1,
      "metadata": {
        "id": "FjCmo8GW8Ldw"
      },
      "outputs": [],
      "source": [
        "import numpy as np"
      ]
    },
    {
      "cell_type": "markdown",
      "source": [
        "### 1. Generating Random Numbers"
      ],
      "metadata": {
        "id": "xbw8NIsdOqvE"
      }
    },
    {
      "cell_type": "code",
      "source": [
        "print(np.random.rand())\n",
        "print(np.random.rand(3))\n",
        "\n",
        "print(np.random.randint(10))\n",
        "print(np.random.randint(10, size=(3, 5)))"
      ],
      "metadata": {
        "colab": {
          "base_uri": "https://localhost:8080/"
        },
        "id": "64U70q6VLcJj",
        "outputId": "3237d95d-b796-48b4-cc92-df58ac8255d6"
      },
      "execution_count": 13,
      "outputs": [
        {
          "output_type": "stream",
          "name": "stdout",
          "text": [
            "0.045962546686202144\n",
            "[0.93922746 0.83334219 0.34285859]\n",
            "5\n",
            "[[6 4 0 8 2]\n",
            " [4 3 1 2 8]\n",
            " [4 9 1 6 6]]\n"
          ]
        }
      ]
    },
    {
      "cell_type": "markdown",
      "source": [
        "### 2. Random Numbers with Seed"
      ],
      "metadata": {
        "id": "89T-voYmOuIC"
      }
    },
    {
      "cell_type": "code",
      "source": [
        "np.random.seed(2)\n",
        "\n",
        "print(np.random.rand())\n",
        "print(np.random.rand(3))\n",
        "\n",
        "print(np.random.randint(10))\n",
        "print(np.random.randint(10, size=(3, 5)))"
      ],
      "metadata": {
        "colab": {
          "base_uri": "https://localhost:8080/"
        },
        "id": "iQd_MCmSMNon",
        "outputId": "d302cc9b-f4bf-4cfb-ab20-954b51c05757"
      },
      "execution_count": 15,
      "outputs": [
        {
          "output_type": "stream",
          "name": "stdout",
          "text": [
            "0.43599490214200376\n",
            "[0.02592623 0.54966248 0.43532239]\n",
            "8\n",
            "[[7 2 1 5 4]\n",
            " [4 5 7 3 6]\n",
            " [4 3 7 6 1]]\n"
          ]
        }
      ]
    },
    {
      "cell_type": "code",
      "source": [
        "np.random.seed(5)\n",
        "\n",
        "print(np.random.rand())\n",
        "print(np.random.rand(3))\n",
        "\n",
        "print(np.random.randint(10))\n",
        "print(np.random.randint(10, size=(3, 5)))"
      ],
      "metadata": {
        "colab": {
          "base_uri": "https://localhost:8080/"
        },
        "id": "NrN0YoiCMnhL",
        "outputId": "ce1f1217-9ddb-443f-afcd-fb96b87b06cc"
      },
      "execution_count": 17,
      "outputs": [
        {
          "output_type": "stream",
          "name": "stdout",
          "text": [
            "0.22199317108973948\n",
            "[0.87073231 0.20671916 0.91861091]\n",
            "8\n",
            "[[4 7 0 0 7]\n",
            " [1 5 7 0 1]\n",
            " [4 6 2 9 9]]\n"
          ]
        }
      ]
    },
    {
      "cell_type": "code",
      "source": [
        "np.random.seed(5)\n",
        "\n",
        "print(np.random.rand())\n",
        "print(np.random.rand(3))\n",
        "\n",
        "print(np.random.randint(10))\n",
        "print(np.random.randint(10, size=(3, 5)))"
      ],
      "metadata": {
        "colab": {
          "base_uri": "https://localhost:8080/"
        },
        "id": "XIJ0jqwMMqeY",
        "outputId": "5ff87d2f-1f70-4f81-95f0-44628cb1f1b1"
      },
      "execution_count": 18,
      "outputs": [
        {
          "output_type": "stream",
          "name": "stdout",
          "text": [
            "0.22199317108973948\n",
            "[0.87073231 0.20671916 0.91861091]\n",
            "8\n",
            "[[4 7 0 0 7]\n",
            " [1 5 7 0 1]\n",
            " [4 6 2 9 9]]\n"
          ]
        }
      ]
    },
    {
      "cell_type": "code",
      "source": [
        "np.random.seed(5)\n",
        "\n",
        "print(np.random.rand())\n",
        "print(np.random.rand(3))\n",
        "\n",
        "print(np.random.randint(10))\n",
        "print(np.random.randint(10, size=(3, 5)))"
      ],
      "metadata": {
        "colab": {
          "base_uri": "https://localhost:8080/"
        },
        "id": "PDTGBk8cMz41",
        "outputId": "c31d6a90-59b7-4515-8863-ce8e49f821f5"
      },
      "execution_count": 24,
      "outputs": [
        {
          "output_type": "stream",
          "name": "stdout",
          "text": [
            "0.22199317108973948\n",
            "[0.87073231 0.20671916 0.91861091]\n",
            "8\n",
            "[[4 7 0 0 7]\n",
            " [1 5 7 0 1]\n",
            " [4 6 2 9 9]]\n"
          ]
        }
      ]
    },
    {
      "cell_type": "markdown",
      "source": [
        "### 3. Seed in Loops"
      ],
      "metadata": {
        "id": "8JWbAPcXOy9b"
      }
    },
    {
      "cell_type": "code",
      "source": [
        "np.random.seed(5)\n",
        "\n",
        "for i in range(10):\n",
        "  arr = np.random.randint(2, size = 1000)\n",
        "  print(len(arr[arr == 1]) , len(arr[arr == 0]))"
      ],
      "metadata": {
        "colab": {
          "base_uri": "https://localhost:8080/"
        },
        "id": "Ohfb5LwpM5-R",
        "outputId": "c08c3b13-5e5b-43fa-dca1-e9898a56df67"
      },
      "execution_count": 57,
      "outputs": [
        {
          "output_type": "stream",
          "name": "stdout",
          "text": [
            "505 495\n",
            "509 491\n",
            "481 519\n",
            "508 492\n",
            "510 490\n",
            "490 510\n",
            "503 497\n",
            "475 525\n",
            "496 504\n",
            "499 501\n"
          ]
        }
      ]
    },
    {
      "cell_type": "code",
      "source": [],
      "metadata": {
        "id": "1qEiwpw4NULF"
      },
      "execution_count": null,
      "outputs": []
    }
  ]
}